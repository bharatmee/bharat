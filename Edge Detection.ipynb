{
 "cells": [
  {
   "cell_type": "markdown",
   "id": "9b2d3e5f",
   "metadata": {},
   "source": [
    "# Edge Detection "
   ]
  },
  {
   "cell_type": "code",
   "execution_count": null,
   "id": "68720396",
   "metadata": {},
   "outputs": [],
   "source": [
    "import cv2\n",
    "import numpy as np"
   ]
  },
  {
   "cell_type": "code",
   "execution_count": null,
   "id": "1792ddbf",
   "metadata": {},
   "outputs": [],
   "source": [
    "img = cv2.imread(\"image-1SELENA-GOMEZ.webp\")\n",
    "img = cv2.resize(img,(500,500))\n",
    "print(img.shape)\n",
    "\n",
    "new_img = cv2.Canny(img, 100,100)\n",
    "cv2.imshow(\"images\",new_img)\n",
    "cv2.imshow(\"images1\",img)\n",
    "cv2.waitKey(0)\n",
    "cv2.destroyAllWindows()"
   ]
  },
  {
   "cell_type": "markdown",
   "id": "a4b6e129",
   "metadata": {},
   "source": [
    "#  Image Scalling"
   ]
  },
  {
   "cell_type": "code",
   "execution_count": 1,
   "id": "4dde9024",
   "metadata": {},
   "outputs": [],
   "source": [
    "import cv2"
   ]
  },
  {
   "cell_type": "code",
   "execution_count": 2,
   "id": "395d9896",
   "metadata": {},
   "outputs": [],
   "source": [
    "img = cv2.imread(\"Beautiful Face.jpeg\")\n",
    "cv2.imshow(\"images\",img)\n",
    "cv2.waitKey(0)\n",
    "cv2.destroyAllWindows()"
   ]
  },
  {
   "cell_type": "code",
   "execution_count": null,
   "id": "35e60f68",
   "metadata": {},
   "outputs": [],
   "source": []
  }
 ],
 "metadata": {
  "kernelspec": {
   "display_name": "Python 3 (ipykernel)",
   "language": "python",
   "name": "python3"
  },
  "language_info": {
   "codemirror_mode": {
    "name": "ipython",
    "version": 3
   },
   "file_extension": ".py",
   "mimetype": "text/x-python",
   "name": "python",
   "nbconvert_exporter": "python",
   "pygments_lexer": "ipython3",
   "version": "3.10.9"
  }
 },
 "nbformat": 4,
 "nbformat_minor": 5
}
