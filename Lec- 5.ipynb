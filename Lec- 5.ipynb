{
 "cells": [
  {
   "cell_type": "code",
   "execution_count": null,
   "id": "f4a902fd",
   "metadata": {},
   "outputs": [],
   "source": [
    "import cv2\n",
    "import numpy as np"
   ]
  },
  {
   "cell_type": "code",
   "execution_count": null,
   "id": "d0951b23",
   "metadata": {},
   "outputs": [],
   "source": [
    "img = cv2.imread(r\"D:\\bharat\\Images\\mikebirdy.jpg\")\n",
    "# print(img)\n",
    "# img = cv2.resize(img, (500,600))\n",
    "\n",
    "\n",
    "mask1 = np.zeros(img.shape[:2],np.uint8)\n",
    "# print(mask1)\n",
    "bgmask = np.zeros((1,65),np.float64)\n",
    "fgmask = np.zeros((1,65),np.float64) \n",
    "\n",
    "\n",
    "r = (396,501,3534,2462)\n",
    "cv2.grabCut(img,mask1,r,bgmask,fgmask,10,cv2.GC_INIT_WITH_RECT)\n",
    "\n",
    "mask2 =np.where((mask1 == 2)|(mask1 == 0),0,1).astype(\"uint8\")\n",
    "print(mask2)\n",
    "img = img*mask2[:,:,np.newaxis]\n",
    "print(img)\n",
    "cv2.imshow(\"window\",img)\n",
    "cv2.waitKey(0)\n",
    "cv2.destroyAllWindows()"
   ]
  },
  {
   "cell_type": "code",
   "execution_count": null,
   "id": "ccc956f8",
   "metadata": {},
   "outputs": [],
   "source": []
  },
  {
   "cell_type": "code",
   "execution_count": 3,
   "id": "141b12ec",
   "metadata": {},
   "outputs": [],
   "source": [
    "import cv2 \n",
    "import numpy as np"
   ]
  },
  {
   "cell_type": "code",
   "execution_count": 11,
   "id": "05a8fdf5",
   "metadata": {},
   "outputs": [],
   "source": [
    "cap = cv2.VideoCapture(r\"D:\\bharat\\Images\\Dance.mp4\")\n",
    "# two algorithm for remove video background\n",
    "algo1 =cv2.createBackgroundSubtractorKNN(detectShadows = True)\n",
    "algo2 = cv2.createBackgroundSubtractorMOG2(detectShadows = True)\n",
    "\n",
    "while True:\n",
    "    r,f = cap.read()\n",
    "    if r == True:\n",
    "        f = cv2.resize(f,(400,400))\n",
    "        r1 = algo1.apply(f)\n",
    "        r2 = algo2.apply(f)\n",
    "        cv2.imshow(\"video\",f)\n",
    "        cv2.imshow(\"algo1\",r1)\n",
    "        cv2.imshow(\"algo2\",r2)\n",
    "        if cv2.waitKey(40) & 0xff == ord(\"q\"):\n",
    "            break\n",
    "    else:\n",
    "        break\n",
    "cap.release()\n",
    "cv2.destroyAllWindows()\n"
   ]
  },
  {
   "cell_type": "code",
   "execution_count": null,
   "id": "48868e84",
   "metadata": {},
   "outputs": [],
   "source": []
  },
  {
   "cell_type": "markdown",
   "id": "c2fd3a40",
   "metadata": {},
   "source": [
    "# Object Tracking And Detection"
   ]
  },
  {
   "cell_type": "code",
   "execution_count": 22,
   "id": "ccff04a7",
   "metadata": {},
   "outputs": [],
   "source": [
    "import cv2\n",
    "import numpy as np"
   ]
  },
  {
   "cell_type": "code",
   "execution_count": 23,
   "id": "093dde46",
   "metadata": {},
   "outputs": [
    {
     "ename": "error",
     "evalue": "OpenCV(4.6.0) D:\\a\\opencv-python\\opencv-python\\opencv\\modules\\imgproc\\src\\color.cpp:182: error: (-215:Assertion failed) !_src.empty() in function 'cv::cvtColor'\n",
     "output_type": "error",
     "traceback": [
      "\u001b[1;31m---------------------------------------------------------------------------\u001b[0m",
      "\u001b[1;31merror\u001b[0m                                     Traceback (most recent call last)",
      "Cell \u001b[1;32mIn[23], line 8\u001b[0m\n\u001b[0;32m      5\u001b[0m t \u001b[38;5;241m=\u001b[39m (x,y,w,h)\n\u001b[0;32m      6\u001b[0m roi \u001b[38;5;241m=\u001b[39m f[y:y\u001b[38;5;241m+\u001b[39mh,x:x\u001b[38;5;241m+\u001b[39mw]\n\u001b[1;32m----> 8\u001b[0m hsv_roi \u001b[38;5;241m=\u001b[39m \u001b[43mcv2\u001b[49m\u001b[38;5;241;43m.\u001b[39;49m\u001b[43mcvtColor\u001b[49m\u001b[43m(\u001b[49m\u001b[43mroi\u001b[49m\u001b[43m,\u001b[49m\u001b[43mcv2\u001b[49m\u001b[38;5;241;43m.\u001b[39;49m\u001b[43mCOLOR_BGR2HSV\u001b[49m\u001b[43m)\u001b[49m\n\u001b[0;32m      9\u001b[0m \u001b[38;5;28mprint\u001b[39m(hsv_roi)\n\u001b[0;32m     11\u001b[0m mask \u001b[38;5;241m=\u001b[39m cv2\u001b[38;5;241m.\u001b[39minRange(hsv_roi,np\u001b[38;5;241m.\u001b[39marray((\u001b[38;5;241m0.\u001b[39m,\u001b[38;5;241m60.\u001b[39m,\u001b[38;5;241m32.\u001b[39m)),np\u001b[38;5;241m.\u001b[39marray((\u001b[38;5;241m180.\u001b[39m,\u001b[38;5;241m255.\u001b[39m,\u001b[38;5;241m255.\u001b[39m)))\n",
      "\u001b[1;31merror\u001b[0m: OpenCV(4.6.0) D:\\a\\opencv-python\\opencv-python\\opencv\\modules\\imgproc\\src\\color.cpp:182: error: (-215:Assertion failed) !_src.empty() in function 'cv::cvtColor'\n"
     ]
    }
   ],
   "source": [
    "cap = cv2.VideoCapture(r\"D:\\bharat\\Images\\Dance.mp4\")\n",
    "r,f = cap.read()\n",
    "x,y,w,h = 611,78,110,292 \n",
    "\n",
    "t = (x,y,w,h)\n",
    "roi = f[y:y+h,x:x+w]\n",
    "\n",
    "hsv_roi = cv2.cvtColor(roi,cv2.COLOR_BGR2HSV)\n",
    "print(hsv_roi)\n",
    "\n",
    "mask = cv2.inRange(hsv_roi,np.array((0.,60.,32.)),np.array((180.,255.,255.)))\n",
    "\n",
    "\n",
    "roi_hist = cv2.calcHist([hsv_roi],[0],mask,[180],[0,180])\n",
    "cv2.normalize(roi_hist,roi_hist,0,255,cv2.NORM_MINMAX)\n",
    "cv2.imshow(\"test\",roi)\n",
    "while cap.isOpened():\n",
    "    r,f = cap.read()\n",
    "    if r== True:\n",
    "#         f = cv2.resize(f,(400,500))\n",
    "#         cv2.imshow(\"video\",f)\n",
    "        \n",
    "        if cv2.waitKey(25) & 0xff ==ord(\"q\"):\n",
    "            break\n",
    "            \n",
    "    else:\n",
    "        break\n",
    "        \n",
    "cap.release()\n",
    "cv2.destroyAllWindows()"
   ]
  },
  {
   "cell_type": "code",
   "execution_count": 25,
   "id": "574dd0a4",
   "metadata": {},
   "outputs": [
    {
     "ename": "NameError",
     "evalue": "name 'hsv_roi' is not defined",
     "output_type": "error",
     "traceback": [
      "\u001b[1;31m---------------------------------------------------------------------------\u001b[0m",
      "\u001b[1;31mNameError\u001b[0m                                 Traceback (most recent call last)",
      "Cell \u001b[1;32mIn[25], line 1\u001b[0m\n\u001b[1;32m----> 1\u001b[0m \u001b[38;5;28mprint\u001b[39m(\u001b[43mhsv_roi\u001b[49m)\n",
      "\u001b[1;31mNameError\u001b[0m: name 'hsv_roi' is not defined"
     ]
    }
   ],
   "source": [
    "print(hsv_roi)"
   ]
  },
  {
   "cell_type": "code",
   "execution_count": 31,
   "id": "e9352ba8",
   "metadata": {},
   "outputs": [
    {
     "ename": "error",
     "evalue": "OpenCV(4.6.0) D:\\a\\opencv-python\\opencv-python\\opencv\\modules\\imgproc\\src\\color.cpp:182: error: (-215:Assertion failed) !_src.empty() in function 'cv::cvtColor'\n",
     "output_type": "error",
     "traceback": [
      "\u001b[1;31m---------------------------------------------------------------------------\u001b[0m",
      "\u001b[1;31merror\u001b[0m                                     Traceback (most recent call last)",
      "Cell \u001b[1;32mIn[31], line 11\u001b[0m\n\u001b[0;32m      8\u001b[0m track_window \u001b[38;5;241m=\u001b[39m (x, y, w, h)\n\u001b[0;32m      9\u001b[0m roi \u001b[38;5;241m=\u001b[39m frame[y:y\u001b[38;5;241m+\u001b[39mh, x:x\u001b[38;5;241m+\u001b[39mw]\n\u001b[1;32m---> 11\u001b[0m hsv_roi \u001b[38;5;241m=\u001b[39m \u001b[43mcv2\u001b[49m\u001b[38;5;241;43m.\u001b[39;49m\u001b[43mcvtColor\u001b[49m\u001b[43m(\u001b[49m\u001b[43mroi\u001b[49m\u001b[43m,\u001b[49m\u001b[43m \u001b[49m\u001b[43mcv2\u001b[49m\u001b[38;5;241;43m.\u001b[39;49m\u001b[43mCOLOR_BGR2HSV\u001b[49m\u001b[43m)\u001b[49m\n\u001b[0;32m     12\u001b[0m mask \u001b[38;5;241m=\u001b[39m cv2\u001b[38;5;241m.\u001b[39minRange(hsv_roi, np\u001b[38;5;241m.\u001b[39marray((\u001b[38;5;241m0.\u001b[39m, \u001b[38;5;241m60.\u001b[39m, \u001b[38;5;241m32.\u001b[39m)), np\u001b[38;5;241m.\u001b[39marray((\u001b[38;5;241m180.\u001b[39m, \u001b[38;5;241m255.\u001b[39m, \u001b[38;5;241m255.\u001b[39m)))\n\u001b[0;32m     14\u001b[0m roi_hist \u001b[38;5;241m=\u001b[39m cv2\u001b[38;5;241m.\u001b[39mcalcHist([hsv_roi], [\u001b[38;5;241m0\u001b[39m], mask, [\u001b[38;5;241m180\u001b[39m], [\u001b[38;5;241m0\u001b[39m, \u001b[38;5;241m180\u001b[39m])\n",
      "\u001b[1;31merror\u001b[0m: OpenCV(4.6.0) D:\\a\\opencv-python\\opencv-python\\opencv\\modules\\imgproc\\src\\color.cpp:182: error: (-215:Assertion failed) !_src.empty() in function 'cv::cvtColor'\n"
     ]
    }
   ],
   "source": [
    "import cv2\n",
    "import numpy as np\n",
    "\n",
    "cap = cv2.VideoCapture(r\"D:\\bharat\\Images\\Dance.mp4\")\n",
    "ret, frame = cap.read()\n",
    "\n",
    "x, y, w, h = 600, 78, 110, 292\n",
    "track_window = (x, y, w, h)\n",
    "roi = frame[y:y+h, x:x+w]\n",
    "\n",
    "hsv_roi = cv2.cvtColor(roi, cv2.COLOR_BGR2HSV)\n",
    "mask = cv2.inRange(hsv_roi, np.array((0., 60., 32.)), np.array((180., 255., 255.)))\n",
    "\n",
    "roi_hist = cv2.calcHist([hsv_roi], [0], mask, [180], [0, 180])\n",
    "cv2.normalize(roi_hist, roi_hist, 0, 255, cv2.NORM_MINMAX)\n",
    "\n",
    "cv2.imshow(\"ROI\", roi)\n",
    "\n",
    "term_crit = (cv2.TERM_CRITERIA_EPS | cv2.TERM_CRITERIA_COUNT, 10, 1)\n",
    "\n",
    "while cap.isOpened():\n",
    "    ret, frame = cap.read()\n",
    "    if ret:\n",
    "        hsv = cv2.cvtColor(frame, cv2.COLOR_BGR2HSV)\n",
    "        dst = cv2.calcBackProject([hsv], [0], roi_hist, [0, 180], 1)\n",
    "        \n",
    "        ret, track_window = cv2.meanShift(dst, track_window, term_crit)\n",
    "        \n",
    "        x, y, w, h = track_window\n",
    "        result = cv2.rectangle(frame, (x, y), (x+w, y+h), 255, 2)\n",
    "        \n",
    "        cv2.imshow(\"Tracking\", result)\n",
    "        \n",
    "        if cv2.waitKey(25) & 0xff == ord(\"q\"):\n",
    "            break\n",
    "    else:\n",
    "        break\n",
    "\n",
    "cap.release()\n",
    "cv2.destroyAllWindows()\n"
   ]
  },
  {
   "cell_type": "code",
   "execution_count": null,
   "id": "1ceddfed",
   "metadata": {},
   "outputs": [],
   "source": []
  },
  {
   "cell_type": "code",
   "execution_count": 27,
   "id": "bae56709",
   "metadata": {},
   "outputs": [
    {
     "data": {
      "text/plain": [
       "(611, 78, 110, 292)"
      ]
     },
     "execution_count": 27,
     "metadata": {},
     "output_type": "execute_result"
    }
   ],
   "source": [
    "t"
   ]
  },
  {
   "cell_type": "code",
   "execution_count": 28,
   "id": "0f1db6c7",
   "metadata": {},
   "outputs": [
    {
     "data": {
      "text/plain": [
       "array([], shape=(292, 0, 3), dtype=uint8)"
      ]
     },
     "execution_count": 28,
     "metadata": {},
     "output_type": "execute_result"
    }
   ],
   "source": [
    "roi"
   ]
  },
  {
   "cell_type": "code",
   "execution_count": null,
   "id": "ecf32e53",
   "metadata": {},
   "outputs": [],
   "source": []
  },
  {
   "cell_type": "code",
   "execution_count": 18,
   "id": "90f5427d",
   "metadata": {},
   "outputs": [
    {
     "ename": "error",
     "evalue": "OpenCV(4.6.0) D:\\a\\opencv-python\\opencv-python\\opencv\\modules\\imgproc\\src\\color.cpp:182: error: (-215:Assertion failed) !_src.empty() in function 'cv::cvtColor'\n",
     "output_type": "error",
     "traceback": [
      "\u001b[1;31m---------------------------------------------------------------------------\u001b[0m",
      "\u001b[1;31merror\u001b[0m                                     Traceback (most recent call last)",
      "Cell \u001b[1;32mIn[18], line 14\u001b[0m\n\u001b[0;32m     12\u001b[0m \u001b[38;5;66;03m# Set up the ROI for tracking\u001b[39;00m\n\u001b[0;32m     13\u001b[0m roi \u001b[38;5;241m=\u001b[39m frame[y:y\u001b[38;5;241m+\u001b[39mh, x:x\u001b[38;5;241m+\u001b[39mw]\n\u001b[1;32m---> 14\u001b[0m hsv_roi \u001b[38;5;241m=\u001b[39m \u001b[43mcv2\u001b[49m\u001b[38;5;241;43m.\u001b[39;49m\u001b[43mcvtColor\u001b[49m\u001b[43m(\u001b[49m\u001b[43mroi\u001b[49m\u001b[43m,\u001b[49m\u001b[43m \u001b[49m\u001b[43mcv2\u001b[49m\u001b[38;5;241;43m.\u001b[39;49m\u001b[43mCOLOR_BGR2HSV\u001b[49m\u001b[43m)\u001b[49m\n\u001b[0;32m     15\u001b[0m mask \u001b[38;5;241m=\u001b[39m cv2\u001b[38;5;241m.\u001b[39minRange(hsv_roi, np\u001b[38;5;241m.\u001b[39marray((\u001b[38;5;241m0.\u001b[39m, \u001b[38;5;241m60.\u001b[39m, \u001b[38;5;241m32.\u001b[39m)), np\u001b[38;5;241m.\u001b[39marray((\u001b[38;5;241m180.\u001b[39m, \u001b[38;5;241m255.\u001b[39m, \u001b[38;5;241m255.\u001b[39m)))\n\u001b[0;32m     16\u001b[0m roi_hist \u001b[38;5;241m=\u001b[39m cv2\u001b[38;5;241m.\u001b[39mcalcHist([hsv_roi], [\u001b[38;5;241m0\u001b[39m], mask, [\u001b[38;5;241m180\u001b[39m], [\u001b[38;5;241m0\u001b[39m, \u001b[38;5;241m180\u001b[39m])\n",
      "\u001b[1;31merror\u001b[0m: OpenCV(4.6.0) D:\\a\\opencv-python\\opencv-python\\opencv\\modules\\imgproc\\src\\color.cpp:182: error: (-215:Assertion failed) !_src.empty() in function 'cv::cvtColor'\n"
     ]
    }
   ],
   "source": [
    "import cv2\n",
    "import numpy as np\n",
    "\n",
    "# Open the video file\n",
    "cap = cv2.VideoCapture(r\"D:\\bharat\\Images\\Dance.mp4\")\n",
    "ret, frame = cap.read()\n",
    "\n",
    "# Define the initial region of interest (ROI)\n",
    "x, y, w, h = 611, 78, 110, 292\n",
    "track_window = (x, y, w, h)\n",
    "\n",
    "# Set up the ROI for tracking\n",
    "roi = frame[y:y+h, x:x+w]\n",
    "hsv_roi = cv2.cvtColor(roi, cv2.COLOR_BGR2HSV)\n",
    "mask = cv2.inRange(hsv_roi, np.array((0., 60., 32.)), np.array((180., 255., 255.)))\n",
    "roi_hist = cv2.calcHist([hsv_roi], [0], mask, [180], [0, 180])\n",
    "cv2.normalize(roi_hist, roi_hist, 0, 255, cv2.NORM_MINMAX)\n",
    "\n",
    "# Setup the termination criteria, either 10 iterations or move by at least 1 pt\n",
    "term_crit = (cv2.TERM_CRITERIA_EPS | cv2.TERM_CRITERIA_COUNT, 10, 1)\n",
    "\n",
    "while cap.isOpened():\n",
    "    ret, frame = cap.read()\n",
    "    if ret:\n",
    "        hsv = cv2.cvtColor(frame, cv2.COLOR_BGR2HSV)\n",
    "        dst = cv2.calcBackProject([hsv], [0], roi_hist, [0, 180], 1)\n",
    "\n",
    "        # Apply CamShift to get the new location\n",
    "        ret, track_window = cv2.CamShift(dst, track_window, term_crit)\n",
    "\n",
    "        # Draw it on the image\n",
    "        pts = cv2.boxPoints(ret)\n",
    "        pts = np.int0(pts)\n",
    "        img2 = cv2.polylines(frame, [pts], True, 255, 2)\n",
    "\n",
    "        cv2.imshow('Tracking', img2)\n",
    "\n",
    "        if cv2.waitKey(25) & 0xFF == ord('q'):\n",
    "            break\n",
    "    else:\n",
    "        break\n",
    "\n",
    "cap.release()\n",
    "cv2.destroyAllWindows()\n"
   ]
  },
  {
   "cell_type": "code",
   "execution_count": 29,
   "id": "062c02b3",
   "metadata": {},
   "outputs": [
    {
     "data": {
      "text/plain": [
       "array([], shape=(292, 0, 3), dtype=uint8)"
      ]
     },
     "execution_count": 29,
     "metadata": {},
     "output_type": "execute_result"
    }
   ],
   "source": [
    "roi"
   ]
  },
  {
   "cell_type": "code",
   "execution_count": null,
   "id": "27ca87e9",
   "metadata": {},
   "outputs": [],
   "source": []
  }
 ],
 "metadata": {
  "kernelspec": {
   "display_name": "Python 3 (ipykernel)",
   "language": "python",
   "name": "python3"
  },
  "language_info": {
   "codemirror_mode": {
    "name": "ipython",
    "version": 3
   },
   "file_extension": ".py",
   "mimetype": "text/x-python",
   "name": "python",
   "nbconvert_exporter": "python",
   "pygments_lexer": "ipython3",
   "version": "3.10.9"
  }
 },
 "nbformat": 4,
 "nbformat_minor": 5
}
