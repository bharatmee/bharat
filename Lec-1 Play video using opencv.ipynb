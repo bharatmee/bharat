{
 "cells": [
  {
   "cell_type": "code",
   "execution_count": 6,
   "id": "c9a53205",
   "metadata": {},
   "outputs": [],
   "source": [
    "import cv2"
   ]
  },
  {
   "cell_type": "code",
   "execution_count": 8,
   "id": "b31e9ba2",
   "metadata": {},
   "outputs": [
    {
     "ename": "KeyboardInterrupt",
     "evalue": "",
     "output_type": "error",
     "traceback": [
      "\u001b[1;31m---------------------------------------------------------------------------\u001b[0m",
      "\u001b[1;31mKeyboardInterrupt\u001b[0m                         Traceback (most recent call last)",
      "Cell \u001b[1;32mIn[8], line 8\u001b[0m\n\u001b[0;32m      6\u001b[0m     frame \u001b[38;5;241m=\u001b[39m cv2\u001b[38;5;241m.\u001b[39mresize(frame,(\u001b[38;5;241m600\u001b[39m,\u001b[38;5;241m500\u001b[39m))\n\u001b[0;32m      7\u001b[0m     cv2\u001b[38;5;241m.\u001b[39mimshow(\u001b[38;5;124m\"\u001b[39m\u001b[38;5;124mwscube\u001b[39m\u001b[38;5;124m\"\u001b[39m, frame)\n\u001b[1;32m----> 8\u001b[0m     \u001b[38;5;28;01mif\u001b[39;00m \u001b[43mcv2\u001b[49m\u001b[38;5;241;43m.\u001b[39;49m\u001b[43mwaitKey\u001b[49m\u001b[43m(\u001b[49m\u001b[38;5;241;43m25\u001b[39;49m\u001b[43m)\u001b[49m \u001b[38;5;241m&\u001b[39m \u001b[38;5;241m0xff\u001b[39m \u001b[38;5;241m==\u001b[39m \u001b[38;5;28mord\u001b[39m(\u001b[38;5;124m\"\u001b[39m\u001b[38;5;124mp\u001b[39m\u001b[38;5;124m\"\u001b[39m):\n\u001b[0;32m      9\u001b[0m         \u001b[38;5;28;01mbreak\u001b[39;00m\n\u001b[0;32m     10\u001b[0m \u001b[38;5;28;01melse\u001b[39;00m:\n",
      "\u001b[1;31mKeyboardInterrupt\u001b[0m: "
     ]
    }
   ],
   "source": [
    "cap = cv2.VideoCapture(r\"D:\\bharat\\video_for_opencv\\1 Introduction To Recursion.mp4\")\n",
    "\n",
    "while cap.isOpened():\n",
    "    r, frame = cap.read()\n",
    "    if r == True :\n",
    "        frame = cv2.resize(frame,(600,500))\n",
    "        cv2.imshow(\"wscube\", frame)\n",
    "        if cv2.waitKey(25) & 0xff == ord(\"p\"):\n",
    "            break\n",
    "    else:\n",
    "        break\n",
    "            \n",
    "cap.release()\n",
    "cv2.destroyAllWindows()\n",
    "    "
   ]
  },
  {
   "cell_type": "markdown",
   "id": "f79069b2",
   "metadata": {},
   "source": [
    "# Capture Video From Camera "
   ]
  },
  {
   "cell_type": "code",
   "execution_count": 1,
   "id": "04635558",
   "metadata": {},
   "outputs": [],
   "source": [
    "import cv2"
   ]
  },
  {
   "cell_type": "code",
   "execution_count": null,
   "id": "0ada2589",
   "metadata": {},
   "outputs": [],
   "source": [
    "cap = cv2.VideoCapture(0)  # system ke camera ke liye 0 use krege\n",
    "while True:\n",
    "    r, frame = cap.read()\n",
    "    if r == True:\n",
    "        frame = cv2.resize(frame,(600,500))\n",
    "        cv2.imshow(\"wscube\",frame)\n",
    "        if cv2.waitKey(25) & 0xff == ord(\"p\"):\n",
    "            break\n",
    "    else:\n",
    "        break\n",
    "        \n",
    "cap.release()\n",
    "cv2.destroyAllWindows()\n",
    "    "
   ]
  },
  {
   "cell_type": "markdown",
   "id": "979d6338",
   "metadata": {},
   "source": [
    "# Slow and Fast Motion "
   ]
  },
  {
   "cell_type": "code",
   "execution_count": 1,
   "id": "533272c5",
   "metadata": {},
   "outputs": [],
   "source": [
    "import cv2"
   ]
  },
  {
   "cell_type": "code",
   "execution_count": 7,
   "id": "eb0e6e4f",
   "metadata": {},
   "outputs": [
    {
     "ename": "KeyboardInterrupt",
     "evalue": "",
     "output_type": "error",
     "traceback": [
      "\u001b[1;31m---------------------------------------------------------------------------\u001b[0m",
      "\u001b[1;31mKeyboardInterrupt\u001b[0m                         Traceback (most recent call last)",
      "Cell \u001b[1;32mIn[7], line 3\u001b[0m\n\u001b[0;32m      1\u001b[0m cap \u001b[38;5;241m=\u001b[39m cv2\u001b[38;5;241m.\u001b[39mVideoCapture(\u001b[38;5;124mr\u001b[39m\u001b[38;5;124m\"\u001b[39m\u001b[38;5;124mD:\u001b[39m\u001b[38;5;124m\\\u001b[39m\u001b[38;5;124mbharat\u001b[39m\u001b[38;5;124m\\\u001b[39m\u001b[38;5;124mvideo_for_opencv\u001b[39m\u001b[38;5;124m\\\u001b[39m\u001b[38;5;124m1 Introduction To Recursion.mp4\u001b[39m\u001b[38;5;124m\"\u001b[39m)\n\u001b[0;32m      2\u001b[0m \u001b[38;5;28;01mwhile\u001b[39;00m cap\u001b[38;5;241m.\u001b[39misOpened():\n\u001b[1;32m----> 3\u001b[0m     rat,frame \u001b[38;5;241m=\u001b[39m \u001b[43mcap\u001b[49m\u001b[38;5;241;43m.\u001b[39;49m\u001b[43mread\u001b[49m\u001b[43m(\u001b[49m\u001b[43m)\u001b[49m\n\u001b[0;32m      4\u001b[0m     frame \u001b[38;5;241m=\u001b[39m cv2\u001b[38;5;241m.\u001b[39mresize(frame,(\u001b[38;5;241m500\u001b[39m,\u001b[38;5;241m500\u001b[39m))\n\u001b[0;32m      5\u001b[0m     \u001b[38;5;28;01mif\u001b[39;00m rat \u001b[38;5;241m==\u001b[39m \u001b[38;5;28;01mTrue\u001b[39;00m:\n",
      "\u001b[1;31mKeyboardInterrupt\u001b[0m: "
     ]
    }
   ],
   "source": [
    "cap = cv2.VideoCapture(r\"D:\\bharat\\video_for_opencv\\1 Introduction To Recursion.mp4\")\n",
    "while cap.isOpened():\n",
    "    rat,frame = cap.read()\n",
    "    frame = cv2.resize(frame,(500,500))\n",
    "    if rat == True:\n",
    "        cv2.imshow(\"videos\",frame)\n",
    "        if cv2.waitKey(5) & 0xff == ord(\"p\"): #  video ko fast and slow krne ke liye waitKey ke under ki value ko change krna hota he 25 se less hoga to fast chalega or greater hoga to slow chalega\n",
    "            break\n",
    "            \n",
    "    else:\n",
    "        break\n",
    "cap.release()\n",
    "cv2.destroyAllWindows()\n",
    "    "
   ]
  },
  {
   "cell_type": "markdown",
   "id": "bcddccfc",
   "metadata": {},
   "source": [
    "# Morphological Operations"
   ]
  },
  {
   "cell_type": "markdown",
   "id": "34494398",
   "metadata": {},
   "source": [
    "Morphological operations are used to extract image components that are useful in the presentation and description of region  shape. It is typically performed on binary images.\n",
    "The morphological operation we will be covering include:\n",
    "1)Erosion 2) Dilation  3) opening 4)closing 5) morphological gradient 6) black hat 7) Top hat(white hat)."
   ]
  },
  {
   "cell_type": "markdown",
   "id": "9a200d8d",
   "metadata": {},
   "source": [
    "# Erosion And Dilation"
   ]
  },
  {
   "cell_type": "code",
   "execution_count": null,
   "id": "dc130ec8",
   "metadata": {},
   "outputs": [],
   "source": [
    "import cv2 \n",
    "import numpy as np"
   ]
  },
  {
   "cell_type": "code",
   "execution_count": null,
   "id": "fba3930c",
   "metadata": {},
   "outputs": [],
   "source": [
    "img = cv2.imread(r\"D:\\bharat\\Images\\L_image.jpg\")\n",
    "re_img = cv2.resize(img,(500,500))\n",
    "\n",
    "m = np.ones((25,25),np.int8)\n",
    "# print(m)\n",
    "er = cv2.erode(re_img,m,iterations = 1)\n",
    "di = cv2.dilate(re_img, m, iterations = 1)\n",
    "\n",
    "cv2.imshow(\"images\",re_img)\n",
    "cv2.imshow(\"images1\",er)\n",
    "cv2.imshow(\"images2\", di)\n",
    "cv2.waitKey(0)\n",
    "cv2.destroyAllWindows()"
   ]
  },
  {
   "cell_type": "markdown",
   "id": "3d3d5684",
   "metadata": {},
   "source": [
    "# Opening"
   ]
  },
  {
   "cell_type": "code",
   "execution_count": null,
   "id": "de6bf6bb",
   "metadata": {},
   "outputs": [],
   "source": [
    "import cv2"
   ]
  },
  {
   "cell_type": "code",
   "execution_count": null,
   "id": "a30abeea",
   "metadata": {},
   "outputs": [],
   "source": [
    "img = cv2.imread(r\"D:\\bharat\\Images\\L_image.jpg\")\n",
    "\n",
    "re_img = cv2.resize(img,(500,500))\n",
    "\n",
    "k = np.ones((5,5),np.int8)\n",
    "\n",
    "op = cv2.morphologyEx(img,cv2.MORPH_OPEN,k,iterations = 1)\n",
    "\n",
    "cv2.imshow(\"images\",re_img)\n",
    "cv2.imshow(\"images1\",op)\n",
    "# cv2.imshow(\"images2\", di)\n",
    "cv2.waitKey(0)\n",
    "cv2.destroyAllWindows()"
   ]
  },
  {
   "cell_type": "markdown",
   "id": "881497b7",
   "metadata": {},
   "source": [
    "# Closing"
   ]
  },
  {
   "cell_type": "code",
   "execution_count": null,
   "id": "71b3e114",
   "metadata": {},
   "outputs": [],
   "source": [
    "img = cv2.imread(r\"D:\\bharat\\Images\\L_image.jpg\")\n",
    "\n",
    "re_img = cv2.resize(img,(500,500))\n",
    "\n",
    "k = np.ones((5,5),np.int8)\n",
    "\n",
    "c1 = cv2.morphologyEx(img,cv2.MORPH_CLOSE,k,iterations = 1)\n",
    "\n",
    "cv2.imshow(\"images\",re_img)\n",
    "cv2.imshow(\"images1\",c1)\n",
    "# cv2.imshow(\"images2\", di)\n",
    "cv2.waitKey(0)\n",
    "cv2.destroyAllWindows()"
   ]
  },
  {
   "cell_type": "code",
   "execution_count": null,
   "id": "08ff290a",
   "metadata": {},
   "outputs": [],
   "source": []
  },
  {
   "cell_type": "code",
   "execution_count": null,
   "id": "4505522e",
   "metadata": {},
   "outputs": [],
   "source": []
  }
 ],
 "metadata": {
  "kernelspec": {
   "display_name": "Python 3 (ipykernel)",
   "language": "python",
   "name": "python3"
  },
  "language_info": {
   "codemirror_mode": {
    "name": "ipython",
    "version": 3
   },
   "file_extension": ".py",
   "mimetype": "text/x-python",
   "name": "python",
   "nbconvert_exporter": "python",
   "pygments_lexer": "ipython3",
   "version": "3.10.9"
  }
 },
 "nbformat": 4,
 "nbformat_minor": 5
}
