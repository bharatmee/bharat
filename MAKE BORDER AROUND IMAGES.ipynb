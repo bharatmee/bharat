{
 "cells": [
  {
   "cell_type": "markdown",
   "id": "c44a1b18",
   "metadata": {},
   "source": [
    "#  Make Border Around Images"
   ]
  },
  {
   "cell_type": "code",
   "execution_count": 1,
   "id": "bdddc8c3",
   "metadata": {},
   "outputs": [],
   "source": [
    "import cv2\n",
    "import numpy as np "
   ]
  },
  {
   "cell_type": "code",
   "execution_count": 11,
   "id": "5b07823a",
   "metadata": {},
   "outputs": [],
   "source": [
    "img = cv2.imread(r\"D:\\bharat\\Images\\khanna1.jpeg\")\n",
    "re_img = cv2.resize(img,(300,300))\n",
    "\n",
    "# img1 = cv2.copyMakeBorder(re_img,20,20,20,20,cv2.BORDER_CONSTANT,None,value = 2)\n",
    "# img1 = cv2.resize(img1,(300,300))\n",
    "\n",
    "img2 = cv2.copyMakeBorder(re_img,20,20,20,20,cv2.BORDER_REFLECT)\n",
    "img2 = cv2.resize(img2,(300,300))\n",
    "h = np.hstack((re_img, img2))\n",
    "\n",
    "cv2.imshow(\"images\", h)\n",
    "cv2.waitKey(0)\n",
    "cv2.destroyAllWindows()\n"
   ]
  },
  {
   "cell_type": "code",
   "execution_count": null,
   "id": "a0f66823",
   "metadata": {},
   "outputs": [],
   "source": []
  }
 ],
 "metadata": {
  "kernelspec": {
   "display_name": "Python 3 (ipykernel)",
   "language": "python",
   "name": "python3"
  },
  "language_info": {
   "codemirror_mode": {
    "name": "ipython",
    "version": 3
   },
   "file_extension": ".py",
   "mimetype": "text/x-python",
   "name": "python",
   "nbconvert_exporter": "python",
   "pygments_lexer": "ipython3",
   "version": "3.10.9"
  }
 },
 "nbformat": 4,
 "nbformat_minor": 5
}
