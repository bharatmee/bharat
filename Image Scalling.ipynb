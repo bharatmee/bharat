{
 "cells": [
  {
   "cell_type": "markdown",
   "id": "4ffecec8",
   "metadata": {},
   "source": [
    "# Image Scalling"
   ]
  },
  {
   "cell_type": "code",
   "execution_count": 24,
   "id": "c2d07dab",
   "metadata": {},
   "outputs": [],
   "source": [
    "import cv2"
   ]
  },
  {
   "cell_type": "code",
   "execution_count": 25,
   "id": "89931d30",
   "metadata": {},
   "outputs": [],
   "source": [
    "org_img = cv2.imread(\"Beautiful Face.jpeg\")\n",
    "res_img = cv2.resize(org_img,(500,500) )\n",
    "cv2.imshow(\"images\",res_img)\n",
    "cv2.imshow(\"images1\",org_img)\n",
    "cv2.waitKey(0)\n",
    "cv2.destroyAllWindows()"
   ]
  },
  {
   "cell_type": "markdown",
   "id": "461f7576",
   "metadata": {},
   "source": [
    "# Image Rotate"
   ]
  },
  {
   "cell_type": "code",
   "execution_count": 39,
   "id": "f2e39303",
   "metadata": {},
   "outputs": [],
   "source": [
    "import numpy as np\n",
    "org_img = cv2.imread(r\"D:\\bharat\\Images\\sunny1.jpg\")\n",
    "res_img = cv2.resize(org_img,(300,300) )\n",
    "w,h = res_img.shape[0],res_img.shape[1]\n",
    "\n",
    "m = cv2.getRotationMatrix2D((w/2,h/2),80,1)\n",
    "new_img = cv2.warpAffine(res_img,m,(w,h))\n",
    "h = np.hstack((res_img,new_img,res_img,new_img))\n",
    "v = np.vstack((h,h,h,h))\n",
    "cv2.imshow(\"images\",v)\n",
    "# cv2.imshow(\"images1\",org_img)\n",
    "cv2.waitKey(0)\n",
    "cv2.destroyAllWindows()"
   ]
  },
  {
   "cell_type": "code",
   "execution_count": 40,
   "id": "c17232ba",
   "metadata": {},
   "outputs": [],
   "source": [
    "\n",
    "cv2.imshow(\"images\",new_img)\n",
    "# cv2.imshow(\"images1\",org_img)\n",
    "cv2.waitKey(0)\n",
    "cv2.destroyAllWindows()"
   ]
  },
  {
   "cell_type": "markdown",
   "id": "beee9711",
   "metadata": {},
   "source": [
    "# Image Blurring "
   ]
  },
  {
   "cell_type": "code",
   "execution_count": 46,
   "id": "ab828a36",
   "metadata": {},
   "outputs": [],
   "source": [
    "import  cv2\n",
    "import numpy as np"
   ]
  },
  {
   "cell_type": "code",
   "execution_count": 61,
   "id": "cd50fd42",
   "metadata": {},
   "outputs": [],
   "source": [
    "org_img = cv2.imread(r\"D:\\bharat\\Images\\khanna1.jpeg\")\n",
    "org_img = cv2.resize(org_img,(300,300))\n",
    "\n",
    "g = cv2.GaussianBlur(org_img,(9,9),0)  # Gaussian blur\n",
    "m = cv2.medianBlur(org_img,5)\n",
    "b = cv2.bilateralFilter(org_img,9,75,75)\n",
    "\n",
    "h= np.hstack((org_img, g,m,b))\n",
    "v = np.vstack((h,h))\n",
    "\n",
    "cv2.imshow(\"images\",v)\n",
    "cv2.waitKey(0)\n",
    "cv2.destroyAllWindows()"
   ]
  },
  {
   "cell_type": "markdown",
   "id": "e45cf23b",
   "metadata": {},
   "source": [
    "# Imwrite Method"
   ]
  },
  {
   "cell_type": "code",
   "execution_count": 62,
   "id": "97a44301",
   "metadata": {},
   "outputs": [],
   "source": [
    "import cv2\n",
    "import numpy as np\n"
   ]
  },
  {
   "cell_type": "code",
   "execution_count": 66,
   "id": "2ab27e52",
   "metadata": {},
   "outputs": [],
   "source": [
    "img = cv2.imread(r\"D:\\bharat\\Images\\khanna1.jpeg\")\n",
    "re_img = cv2.resize(img,(300,300))\n",
    "\n",
    "\n",
    "h = np.hstack((re_img,re_img))\n",
    "v = np.vstack((h,h))\n",
    "\n",
    "cv2.imwrite(r\"D:\\bharat\\Images\\new_img.png\",v)\n",
    "cv2.imshow(\"imges\",v)\n",
    "cv2.waitKey(0)\n",
    "cv2.destroyAllWindows()"
   ]
  },
  {
   "cell_type": "markdown",
   "id": "93752aec",
   "metadata": {},
   "source": [
    "# Make Border Around Images"
   ]
  },
  {
   "cell_type": "code",
   "execution_count": null,
   "id": "0e0b0b34",
   "metadata": {},
   "outputs": [],
   "source": []
  },
  {
   "cell_type": "code",
   "execution_count": null,
   "id": "d791aa75",
   "metadata": {},
   "outputs": [],
   "source": []
  },
  {
   "cell_type": "code",
   "execution_count": null,
   "id": "e43683f0",
   "metadata": {},
   "outputs": [],
   "source": []
  }
 ],
 "metadata": {
  "kernelspec": {
   "display_name": "Python 3 (ipykernel)",
   "language": "python",
   "name": "python3"
  },
  "language_info": {
   "codemirror_mode": {
    "name": "ipython",
    "version": 3
   },
   "file_extension": ".py",
   "mimetype": "text/x-python",
   "name": "python",
   "nbconvert_exporter": "python",
   "pygments_lexer": "ipython3",
   "version": "3.10.9"
  }
 },
 "nbformat": 4,
 "nbformat_minor": 5
}
