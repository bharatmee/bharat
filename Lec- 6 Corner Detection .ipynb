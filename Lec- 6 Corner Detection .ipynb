{
 "cells": [
  {
   "cell_type": "markdown",
   "id": "50beb2e1",
   "metadata": {},
   "source": [
    "# Harris Corner Detection"
   ]
  },
  {
   "cell_type": "code",
   "execution_count": 1,
   "id": "b4b23a0a",
   "metadata": {},
   "outputs": [],
   "source": [
    "import cv2\n",
    "import numpy as np"
   ]
  },
  {
   "cell_type": "code",
   "execution_count": 30,
   "id": "be4c83ab",
   "metadata": {},
   "outputs": [],
   "source": [
    "img = cv2.imread(r\"D:\\bharat\\Images\\thor_green.png\")\n",
    "# img = cv2.imread(r\"D:\\bharat\\Images\\xpolygons.jpg\")\n",
    "\n",
    "gr = cv2.cvtColor(img,cv2.COLOR_BGR2GRAY)\n",
    "\n",
    "gr = np.float32(gr)\n",
    "res = cv2.cornerHarris(gr,2,3,0.05)\n",
    "\n",
    "res = cv2.dilate(res,None)\n",
    "# print(res)\n",
    "img[res>0.01*res.max()] = [0,0,255]\n",
    "\n",
    "cv2.imshow(\"img\",img)\n",
    "# cv2.imshow(\"img1\",img1)\n",
    "cv2.waitKey(0)\n",
    "cv2.destroyAllWindows()"
   ]
  },
  {
   "cell_type": "code",
   "execution_count": null,
   "id": "1745251c",
   "metadata": {},
   "outputs": [],
   "source": []
  },
  {
   "cell_type": "markdown",
   "id": "b6e39f9d",
   "metadata": {},
   "source": [
    "# Shi-Tomasi Corner Detection"
   ]
  },
  {
   "cell_type": "code",
   "execution_count": 56,
   "id": "e9d7bb73",
   "metadata": {},
   "outputs": [],
   "source": [
    "# img = cv2.imread(r\"D:\\bharat\\Images\\thor_green.png\")\n",
    "img = cv2.imread(r\"D:\\bharat\\Images\\xpolygons.jpg\")\n",
    "\n",
    "gr = cv2.cvtColor(img,cv2.COLOR_BGR2GRAY)\n",
    "cr = cv2.goodFeaturesToTrack(gr,100,0.01,20)\n",
    "\n",
    "cr = np.int32(cr)\n",
    "\n",
    "for i in cr:\n",
    "    x,y = i.ravel()\n",
    "    cv2.circle(img,(x,y),5,(0,0,255),-1)\n",
    "\n",
    "cv2.imshow(\"img\",img) \n",
    "cv2.waitKey(0)\n",
    "cv2.destroyAllWindows()"
   ]
  },
  {
   "cell_type": "code",
   "execution_count": null,
   "id": "a0788a48",
   "metadata": {},
   "outputs": [],
   "source": []
  },
  {
   "cell_type": "markdown",
   "id": "b3507cd1",
   "metadata": {},
   "source": [
    "# Object Detection Using Haar-Cascade(face detection)"
   ]
  },
  {
   "cell_type": "code",
   "execution_count": 57,
   "id": "63e3695f",
   "metadata": {},
   "outputs": [],
   "source": [
    "import cv2\n",
    "import numpy as np "
   ]
  },
  {
   "cell_type": "code",
   "execution_count": 91,
   "id": "328673a0",
   "metadata": {},
   "outputs": [],
   "source": [
    "img = cv2.imread(r\"D:\\bharat\\Images\\98968.jpeg\")\n",
    "img = cv2.resize(img,(500,700))\n",
    "\n",
    "gr = cv2.cvtColor(img,cv2.COLOR_BGRA2GRAY)\n",
    "\n",
    "f = cv2.CascadeClassifier(r\"C:\\Users\\bhara\\anaconda3\\Lib\\site-packages\\cv2\\data\\haarcascade_frontalface_default.xml\")\n",
    "d = f.detectMultiScale(gr,1.3,2)\n",
    "# print(d)\n",
    "for (x,y,w,h) in d:\n",
    "    cv2.rectangle(img,(x,y),(x+w,y+h),(0,0,255),3)\n",
    "    \n",
    "\n",
    "\n",
    "cv2.imshow(\"image\",img)\n",
    "cv2.waitKey(0)\n",
    "cv2.destroyAllWindows()"
   ]
  },
  {
   "cell_type": "code",
   "execution_count": null,
   "id": "975e3861",
   "metadata": {},
   "outputs": [],
   "source": []
  },
  {
   "cell_type": "code",
   "execution_count": null,
   "id": "d0c265f7",
   "metadata": {},
   "outputs": [],
   "source": []
  },
  {
   "cell_type": "code",
   "execution_count": 89,
   "id": "ec3c51d2",
   "metadata": {},
   "outputs": [],
   "source": [
    "img = cv2.imread(r\"D:\\bharat\\Images\\test_image.jpg\")\n",
    "# img = cv2.resize(img,(500,700))\n",
    "\n",
    "gr = cv2.cvtColor(img,cv2.COLOR_BGRA2GRAY)\n",
    "\n",
    "f = cv2.CascadeClassifier(r\"C:\\Users\\bhara\\anaconda3\\Lib\\site-packages\\cv2\\data\\haarcascade_frontalface_default.xml\")\n",
    "d = f.detectMultiScale(gr,1.3,4)\n",
    "# print(d)\n",
    "for (x,y,w,h) in d:\n",
    "    cv2.rectangle(img,(x,y),(x+w,y+h),(0,0,255),3)\n",
    "    \n",
    "\n",
    "\n",
    "cv2.imshow(\"image\",img)\n",
    "cv2.waitKey(0)\n",
    "cv2.destroyAllWindows()"
   ]
  },
  {
   "cell_type": "code",
   "execution_count": null,
   "id": "b3220c5c",
   "metadata": {},
   "outputs": [],
   "source": []
  },
  {
   "cell_type": "markdown",
   "id": "c196fd42",
   "metadata": {},
   "source": [
    "# Displaying  coordinates and color code of the points clicked on the image"
   ]
  },
  {
   "cell_type": "code",
   "execution_count": 90,
   "id": "1c5e4d92",
   "metadata": {},
   "outputs": [],
   "source": [
    "import cv2\n",
    "import numpy as np"
   ]
  },
  {
   "cell_type": "code",
   "execution_count": 94,
   "id": "caef8af8",
   "metadata": {},
   "outputs": [],
   "source": [
    "def click_b(event,x,y,f,p):\n",
    "    if event == cv2.EVENT_LBUTTONDOWN:\n",
    "        s = f\"{x},{y}\"\n",
    "        cv2.putText(img,s,(x,y),cv2.FONT_HERSHEY_COMPLEX,0.5,(0,0,0))\n",
    "        cv2.imshow(\"window\",img)\n",
    "        \n",
    "    elif event == cv2.EVENT_RBUTTONDOWN:\n",
    "        b = img[y,x,0]\n",
    "        g = img[y,x,1]\n",
    "        r = img[y,x,2]\n",
    "        s = f\"{b},{g},{r}\"\n",
    "        \n",
    "        cv2.putText(img,s,(x,y),cv2.FONT_HERSHEY_COMPLEX,0.5,(0,0,255))\n",
    "        \n",
    "    \n",
    "\n",
    "\n",
    "\n",
    "\n",
    "\n",
    "img = cv2.imread(r\"D:\\bharat\\Images\\98968.jpeg\")\n",
    "\n",
    "\n",
    "cv2.imshow(\"window\",img)\n",
    "\n",
    "cv2.setMouseCallback(\"window\",click_b)\n",
    "\n",
    "cv2.waitKey(0)\n",
    "cv2.destroyAllWindows()"
   ]
  },
  {
   "cell_type": "code",
   "execution_count": null,
   "id": "3ab0d81f",
   "metadata": {},
   "outputs": [],
   "source": []
  },
  {
   "cell_type": "markdown",
   "id": "1a05cd0e",
   "metadata": {},
   "source": [
    "# Play a video in reverse mode"
   ]
  },
  {
   "cell_type": "code",
   "execution_count": 2,
   "id": "b6ec3a38",
   "metadata": {},
   "outputs": [],
   "source": [
    "import cv2"
   ]
  },
  {
   "cell_type": "code",
   "execution_count": 14,
   "id": "8c2977d8",
   "metadata": {},
   "outputs": [],
   "source": [
    "cap = cv2.VideoCapture(r\"D:\\bharat\\Images\\premalu.mp4\")\n",
    "l = []\n",
    "\n",
    "\n",
    "c = 1\n",
    "while cap.isOpened():\n",
    "    r,f = cap.read()\n",
    "#     f = cv2.resize(f,(500,500))\n",
    "    if r== True:\n",
    "        file_name = r\"D:\\bharat\\Images\\dance_image\\demo\"+str(c)+\".jpg\"\n",
    "        l.append(file_name)\n",
    "        cv2.imwrite(file_name,f)\n",
    "        c = c+1\n",
    "        cv2.imshow(\"video\",f)\n",
    "        \n",
    "        if cv2.waitKey(25) & 0xff ==ord(\"q\"):\n",
    "            break\n",
    "            \n",
    "    else:\n",
    "        break\n",
    "l.reverse()\n",
    "for i in l:\n",
    "    img_new = cv2.imread(i)\n",
    "    cv2.imshow(\"window_new\",img_new)\n",
    "    if cv2.waitKey(25) & 0xff == ord(\"q\"):\n",
    "        break\n",
    "        \n",
    "    \n",
    "cap.release()\n",
    "cv2.destroyAllWindows()"
   ]
  },
  {
   "cell_type": "code",
   "execution_count": null,
   "id": "1dcc0806",
   "metadata": {},
   "outputs": [],
   "source": []
  },
  {
   "cell_type": "markdown",
   "id": "dffab5c6",
   "metadata": {},
   "source": [
    "# Vehicle detection in a Video frame"
   ]
  },
  {
   "cell_type": "code",
   "execution_count": 5,
   "id": "77ded962",
   "metadata": {},
   "outputs": [],
   "source": [
    "import cv2"
   ]
  },
  {
   "cell_type": "code",
   "execution_count": 15,
   "id": "4a18c7e2",
   "metadata": {},
   "outputs": [],
   "source": [
    "cap = cv2.VideoCapture(r\"D:\\bharat\\Images\\Required Files\\cars.mp4\")\n",
    "while True:\n",
    "    r,f = cap.read()\n",
    "    if r == True:\n",
    "        gry = cv2.cvtColor(f,cv2.COLOR_BGR2GRAY)\n",
    "        car = cv2.CascadeClassifier(r\"D:\\bharat\\Images\\Required Files\\cars.xml\") \n",
    "        \n",
    "        cars = car.detectMultiScale(gry,1.2,3)\n",
    "        \n",
    "        for (x,y,w,h) in cars:\n",
    "            cv2.rectangle(f,(x,y),(x+w,y+h),(0,0,255),3)\n",
    "        \n",
    "        cv2.imshow(\"window\",f)\n",
    "        if cv2.waitKey(25) & 0xff == ord(\"q\"):\n",
    "            break\n",
    "    else:\n",
    "        break\n",
    "\n",
    "cap.release()\n",
    "cv2.destroyAllWindows()"
   ]
  },
  {
   "cell_type": "code",
   "execution_count": 13,
   "id": "50ccce17",
   "metadata": {},
   "outputs": [],
   "source": [
    "import cv2\n",
    "\n",
    "# Open the video file\n",
    "cap = cv2.VideoCapture(r\"D:\\bharat\\Images\\Required Files\\cars.mp4\")\n",
    "\n",
    "# Load the Haar cascade for car detection\n",
    "car_cascade = cv2.CascadeClassifier(r\"D:\\bharat\\Images\\Required Files\\cars.xml\")\n",
    "\n",
    "while True:\n",
    "    # Read each frame of the video\n",
    "    ret, frame = cap.read()\n",
    "    if ret:\n",
    "        \n",
    "        frame = cv2.resize(frame,(450,250))\n",
    "        # Convert the frame to grayscale\n",
    "        gray = cv2.cvtColor(frame, cv2.COLOR_BGR2GRAY)\n",
    "        \n",
    "        # Detect cars in the frame\n",
    "        cars = car_cascade.detectMultiScale(gray, scaleFactor=1.2, minNeighbors=3)\n",
    "        \n",
    "        # Draw rectangles around detected cars\n",
    "        for (x, y, w, h) in cars:\n",
    "            cv2.rectangle(frame, (x, y), (x+w, y+h), (0, 0, 255), 3)\n",
    "        \n",
    "        # Display the frame with detections\n",
    "        cv2.imshow(\"Car Detection\", frame)\n",
    "        \n",
    "        # Break the loop if 'q' is pressed\n",
    "        if cv2.waitKey(25) & 0xFF == ord(\"q\"):\n",
    "            break\n",
    "    else:\n",
    "        break\n",
    "\n",
    "# Release the video capture object and close all OpenCV windows\n",
    "cap.release()\n",
    "cv2.destroyAllWindows()\n"
   ]
  },
  {
   "cell_type": "code",
   "execution_count": null,
   "id": "31d90fc3",
   "metadata": {},
   "outputs": [],
   "source": []
  }
 ],
 "metadata": {
  "kernelspec": {
   "display_name": "Python 3 (ipykernel)",
   "language": "python",
   "name": "python3"
  },
  "language_info": {
   "codemirror_mode": {
    "name": "ipython",
    "version": 3
   },
   "file_extension": ".py",
   "mimetype": "text/x-python",
   "name": "python",
   "nbconvert_exporter": "python",
   "pygments_lexer": "ipython3",
   "version": "3.10.9"
  }
 },
 "nbformat": 4,
 "nbformat_minor": 5
}
