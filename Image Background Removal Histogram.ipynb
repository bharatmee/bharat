{
 "cells": [
  {
   "cell_type": "code",
   "execution_count": null,
   "id": "23204700",
   "metadata": {},
   "outputs": [],
   "source": [
    "import cv2"
   ]
  },
  {
   "cell_type": "code",
   "execution_count": null,
   "id": "30af7ac5",
   "metadata": {},
   "outputs": [],
   "source": [
    "img = cv2.imread(r\"D:\\bharat\\Images\\thor_green.png\")\n",
    "img = cv2.resize(img, (500,500))\n",
    "hsv = cv2.cvtColor(img,cv2.COLOR_BGR2HSV)\n",
    "\n",
    "img1 = cv2.imread(r\"D:\\bharat\\Images\\green.png\")\n",
    "hsv2 = cv2.cvtColor(img1,cv2.COLOR_BGR2HSV)\n",
    "\n",
    "hist = cv2.calcHist([hsv2],[0,1],None,[180,256],[0,180,0,256])\n",
    "mask = cv2.calcBackProject([hsv],[0,1],hist,[0,180,0,256],1)\n",
    "\n",
    "ker = cv2.getStructuringElement(cv2.MORPH_ELLIPSE,(5,5))\n",
    "mask = cv2.filter2D(mask,-1,ker)\n",
    "\n",
    "_,th = cv2.threshold(mask,200,255,cv2.THRESH_BINARY)\n",
    "\n",
    "mask = cv2.merge((mask,mask,mask))\n",
    "\n",
    "res = cv2.bitwise_or(img,mask)\n",
    "\n",
    "\n",
    "\n",
    "# res = cv2.bitwise_or(img,img,mask = mask)\n",
    "\n",
    "\n",
    "cv2.imshow(\"ws\",res)\n",
    "cv2.imshow(\"wscube\",img)\n",
    "# cv2.imshow(\"wscube1\",img1)\n",
    "cv2.waitKey(0)\n",
    "cv2.destroyAllWindows()"
   ]
  },
  {
   "cell_type": "code",
   "execution_count": null,
   "id": "8ec570ad",
   "metadata": {},
   "outputs": [],
   "source": []
  },
  {
   "cell_type": "markdown",
   "id": "b6777d77",
   "metadata": {},
   "source": [
    "# Hough Transformation Lines"
   ]
  },
  {
   "cell_type": "raw",
   "id": "59d56064",
   "metadata": {},
   "source": [
    "# y = mx +c   \n",
    "\n",
    "# y = rsin(theta)+rcos(theta) "
   ]
  },
  {
   "cell_type": "code",
   "execution_count": null,
   "id": "ece23535",
   "metadata": {},
   "outputs": [],
   "source": [
    "import cv2\n",
    "import numpy as np"
   ]
  },
  {
   "cell_type": "code",
   "execution_count": null,
   "id": "6c1dfa1f",
   "metadata": {},
   "outputs": [],
   "source": [
    "img =  cv2.imread(r\"D:\\bharat\\Images\\soduku.webp\")\n",
    "# img = cv2.resize(img,(500,500))\n",
    "\n",
    "img1 = cv2.cvtColor(img,cv2.COLOR_BGRA2GRAY)\n",
    "\n",
    "edg = cv2.Canny(img1,20,250)\n",
    "#Desgin hough lines\n",
    "lines = cv2.HoughLines(edg,1,np.pi/180,200)\n",
    "\n",
    "# print(lines)\n",
    "for r,th in lines[0]:\n",
    "    a = np.cos(th)\n",
    "    b = np.sin(th)\n",
    "    \n",
    "    x0 = a*r\n",
    "    y0 = b*r\n",
    "    \n",
    "    x1 = int(x0+1000*(-b))\n",
    "    y1 = int(y0+1000*(a))\n",
    "    x2 = int(x0-1000*(-b))\n",
    "    y2 = int(y0-1000*(a))\n",
    "    \n",
    "    cv2.line(img, (x1,y1),(x2,y2),(0,255,0), 2)\n",
    "\n",
    "\n",
    "cv2.imshow(\"window\",img)\n",
    "cv2.imshow(\"window1\",edg)\n",
    "cv2.waitKey(0)\n",
    "cv2.destroyAllWindows()"
   ]
  },
  {
   "cell_type": "raw",
   "id": "f9a444b2",
   "metadata": {},
   "source": [
    "# Fast method"
   ]
  },
  {
   "cell_type": "code",
   "execution_count": null,
   "id": "0174afd6",
   "metadata": {},
   "outputs": [],
   "source": [
    "img =  cv2.imread(r\"D:\\bharat\\Images\\soduku.webp\")\n",
    "# img = cv2.resize(img,(500,500))\n",
    "\n",
    "img1 = cv2.cvtColor(img,cv2.COLOR_BGRA2GRAY)\n",
    "\n",
    "edg = cv2.Canny(img1,20,250)\n",
    "#Desgin hough lines\n",
    "l = cv2.HoughLinesP(edg,1,np.pi/180,200,minLineLength = 180,maxLineGap = 100)\n",
    "\n",
    "for i in l:\n",
    "    x1,y1,x2,y2 = i[0]\n",
    "    cv2.line(img, (x1,y1),(x2,y2),(0,255,0), 2)\n",
    "    \n",
    "cv2.imshow(\"window\",img)\n",
    "# cv2.imshow(\"window1\",edg)\n",
    "cv2.waitKey(0)\n",
    "cv2.destroyAllWindows()\n",
    "    "
   ]
  },
  {
   "cell_type": "markdown",
   "id": "57b8692f",
   "metadata": {},
   "source": [
    "# Template Matching "
   ]
  },
  {
   "cell_type": "code",
   "execution_count": null,
   "id": "2d5eee64",
   "metadata": {},
   "outputs": [],
   "source": [
    "import cv2\n",
    "import numpy as np"
   ]
  },
  {
   "cell_type": "code",
   "execution_count": null,
   "id": "d0f54f89",
   "metadata": {},
   "outputs": [],
   "source": [
    "img = cv2.imread(r\"D:\\bharat\\Images\\test_image.jpg\")\n",
    "gry =cv2.cvtColor(img,cv2.COLOR_BGRA2GRAY)\n",
    "\n",
    "\n",
    "img1 = cv2.imread(r\"D:\\bharat\\Images\\test_image1.jpg\")\n",
    "gry1 =cv2.cvtColor(img,cv2.COLOR_BGRA2GRAY)\n",
    "\n",
    "w,h = gry1.shape[1],gry1.shape[0]\n",
    "res = cv2.matchTemplate(gry,gry1,cv2.TM_CCORR_NORMED)\n",
    "print(res)\n",
    "thr = .9\n",
    "\n",
    "l =  np.where(res>=thr)\n",
    "\n",
    "for i in zip(*l[::-1]):\n",
    "    cv2.rectangle(img,i,(i[0]+w,i[1]+h),(0,255,0),2)\n",
    "    \n",
    "    \n",
    "    \n",
    "img = cv2.resize(img,(500,500))\n",
    "\n",
    "# print(l)\n",
    "\n",
    "# print(res)\n",
    "cv2.imshow(\"window\" , img)\n",
    "cv2.imshow(\"window1\",img1)\n",
    "cv2.imshow(\"window2\", res)\n",
    "cv2.waitKey(0)\n",
    "cv2.destroyAllWindows()"
   ]
  },
  {
   "cell_type": "code",
   "execution_count": null,
   "id": "f1d3d5a8",
   "metadata": {},
   "outputs": [],
   "source": [
    "w,h"
   ]
  },
  {
   "cell_type": "code",
   "execution_count": null,
   "id": "1b4978f5",
   "metadata": {},
   "outputs": [],
   "source": [
    "print(res)"
   ]
  },
  {
   "cell_type": "markdown",
   "id": "81d782ae",
   "metadata": {},
   "source": [
    "# Grabcut Algorithm for Background Change"
   ]
  },
  {
   "cell_type": "code",
   "execution_count": 6,
   "id": "c42561ca",
   "metadata": {},
   "outputs": [],
   "source": [
    "import cv2\n",
    "import numpy as np"
   ]
  },
  {
   "cell_type": "code",
   "execution_count": 5,
   "id": "4125c4a7",
   "metadata": {},
   "outputs": [
    {
     "name": "stdout",
     "output_type": "stream",
     "text": [
      "[[0 0 0 ... 0 0 0]\n",
      " [0 0 0 ... 0 0 0]\n",
      " [0 0 0 ... 0 0 0]\n",
      " ...\n",
      " [0 0 0 ... 1 1 1]\n",
      " [0 0 0 ... 1 1 1]\n",
      " [0 0 0 ... 1 1 1]]\n",
      "[[[  0   0   0]\n",
      "  [  0   0   0]\n",
      "  [  0   0   0]\n",
      "  ...\n",
      "  [  0   0   0]\n",
      "  [  0   0   0]\n",
      "  [  0   0   0]]\n",
      "\n",
      " [[  0   0   0]\n",
      "  [  0   0   0]\n",
      "  [  0   0   0]\n",
      "  ...\n",
      "  [  0   0   0]\n",
      "  [  0   0   0]\n",
      "  [  0   0   0]]\n",
      "\n",
      " [[  0   0   0]\n",
      "  [  0   0   0]\n",
      "  [  0   0   0]\n",
      "  ...\n",
      "  [  0   0   0]\n",
      "  [  0   0   0]\n",
      "  [  0   0   0]]\n",
      "\n",
      " ...\n",
      "\n",
      " [[  0   0   0]\n",
      "  [  0   0   0]\n",
      "  [  0   0   0]\n",
      "  ...\n",
      "  [119 135 141]\n",
      "  [115 131 137]\n",
      "  [113 129 135]]\n",
      "\n",
      " [[  0   0   0]\n",
      "  [  0   0   0]\n",
      "  [  0   0   0]\n",
      "  ...\n",
      "  [118 134 140]\n",
      "  [115 131 137]\n",
      "  [113 129 135]]\n",
      "\n",
      " [[  0   0   0]\n",
      "  [  0   0   0]\n",
      "  [  0   0   0]\n",
      "  ...\n",
      "  [120 136 142]\n",
      "  [118 134 140]\n",
      "  [118 134 140]]]\n"
     ]
    }
   ],
   "source": [
    "img = cv2.imread(r\"D:\\bharat\\Images\\mikebirdy.jpg\")\n",
    "# print(img)\n",
    "# img = cv2.resize(img, (500,600))\n",
    "\n",
    "\n",
    "mask1 = np.zeros(img.shape[:2],np.uint8)\n",
    "# print(mask1)\n",
    "bgmask = np.zeros((1,65),np.float64)\n",
    "fgmask = np.zeros((1,65),np.float64) \n",
    "\n",
    "\n",
    "r = (596,701,3534,2462)\n",
    "cv2.grabCut(img,mask1,r,bgmask,fgmask,10,cv2.GC_INIT_WITH_RECT)\n",
    "\n",
    "mask2 =np.where((mask1 == 2)|(mask1 == 0),0,1).astype(\"uint8\")\n",
    "print(mask2)\n",
    "img = img*mask2[:,:,np.newaxis]\n",
    "print(img)\n",
    "cv2.imshow(\"window\",img)\n",
    "cv2.waitKey(0)\n",
    "cv2.destroyAllWindows()"
   ]
  },
  {
   "cell_type": "code",
   "execution_count": 7,
   "id": "2322dd56",
   "metadata": {},
   "outputs": [
    {
     "name": "stdout",
     "output_type": "stream",
     "text": [
      "[[0 0 0 ... 0 0 0]\n",
      " [0 0 0 ... 0 0 0]\n",
      " [0 0 0 ... 0 0 0]\n",
      " ...\n",
      " [0 0 0 ... 0 0 0]\n",
      " [0 0 0 ... 0 0 0]\n",
      " [0 0 0 ... 0 0 0]]\n",
      "[[0 0 0 ... 0 0 0]\n",
      " [0 0 0 ... 0 0 0]\n",
      " [0 0 0 ... 0 0 0]\n",
      " ...\n",
      " [0 0 0 ... 0 0 0]\n",
      " [0 0 0 ... 0 0 0]\n",
      " [0 0 0 ... 0 0 0]]\n",
      "[[[0 0 0]\n",
      "  [0 0 0]\n",
      "  [0 0 0]\n",
      "  ...\n",
      "  [0 0 0]\n",
      "  [0 0 0]\n",
      "  [0 0 0]]\n",
      "\n",
      " [[0 0 0]\n",
      "  [0 0 0]\n",
      "  [0 0 0]\n",
      "  ...\n",
      "  [0 0 0]\n",
      "  [0 0 0]\n",
      "  [0 0 0]]\n",
      "\n",
      " [[0 0 0]\n",
      "  [0 0 0]\n",
      "  [0 0 0]\n",
      "  ...\n",
      "  [0 0 0]\n",
      "  [0 0 0]\n",
      "  [0 0 0]]\n",
      "\n",
      " ...\n",
      "\n",
      " [[0 0 0]\n",
      "  [0 0 0]\n",
      "  [0 0 0]\n",
      "  ...\n",
      "  [0 0 0]\n",
      "  [0 0 0]\n",
      "  [0 0 0]]\n",
      "\n",
      " [[0 0 0]\n",
      "  [0 0 0]\n",
      "  [0 0 0]\n",
      "  ...\n",
      "  [0 0 0]\n",
      "  [0 0 0]\n",
      "  [0 0 0]]\n",
      "\n",
      " [[0 0 0]\n",
      "  [0 0 0]\n",
      "  [0 0 0]\n",
      "  ...\n",
      "  [0 0 0]\n",
      "  [0 0 0]\n",
      "  [0 0 0]]]\n"
     ]
    }
   ],
   "source": [
    "import cv2\n",
    "import numpy as np\n",
    "\n",
    "# Load and resize the image\n",
    "img = cv2.imread(r\"D:\\bharat\\Images\\mikebirdy.jpg\")\n",
    "img = cv2.resize(img, (500, 600))\n",
    "\n",
    "# Initialize the mask, background model, and foreground model\n",
    "mask1 = np.zeros(img.shape[:2], np.uint8)\n",
    "print(mask1)\n",
    "bgmask = np.zeros((1, 65), np.float64)\n",
    "fgmask = np.zeros((1, 65), np.float64)\n",
    "\n",
    "# Define the rectangle for the grabCut algorithm\n",
    "rect = (50, 50, 400, 500)  # Adjust these values as per the area of interest\n",
    "\n",
    "# Apply the grabCut algorithm\n",
    "cv2.grabCut(img, mask1, rect, bgmask, fgmask, 10, cv2.GC_INIT_WITH_RECT)\n",
    "\n",
    "# Modify the mask such that all the 0 and 2 pixels are put to 0, and others are put to 1\n",
    "mask2 = np.where((mask1 == 2) | (mask1 == 0), 0, 1).astype('uint8')\n",
    "print(mask2)\n",
    "# Multiply the input image with new binary mask to get the segmented image\n",
    "img = img * mask2[:, :, np.newaxis]\n",
    "print(img)\n",
    "\n",
    "# Display the result\n",
    "cv2.imshow(\"window\", img)\n",
    "cv2.waitKey(0)\n",
    "cv2.destroyAllWindows()\n"
   ]
  },
  {
   "cell_type": "code",
   "execution_count": null,
   "id": "fe4d785c",
   "metadata": {},
   "outputs": [],
   "source": []
  }
 ],
 "metadata": {
  "kernelspec": {
   "display_name": "Python 3 (ipykernel)",
   "language": "python",
   "name": "python3"
  },
  "language_info": {
   "codemirror_mode": {
    "name": "ipython",
    "version": 3
   },
   "file_extension": ".py",
   "mimetype": "text/x-python",
   "name": "python",
   "nbconvert_exporter": "python",
   "pygments_lexer": "ipython3",
   "version": "3.10.9"
  }
 },
 "nbformat": 4,
 "nbformat_minor": 5
}
