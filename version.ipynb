{
 "cells": [
  {
   "cell_type": "code",
   "execution_count": 1,
   "id": "2c2bff9b-7b49-4a25-9ec2-fd25f914c2b3",
   "metadata": {},
   "outputs": [],
   "source": [
    "import cv2"
   ]
  },
  {
   "cell_type": "code",
   "execution_count": 2,
   "id": "d455e7b8-4ff2-4ec2-a71c-92b0edd817b5",
   "metadata": {},
   "outputs": [
    {
     "name": "stdout",
     "output_type": "stream",
     "text": [
      "OpenCV version: 4.7.0\n"
     ]
    }
   ],
   "source": [
    "import cv2\n",
    "print(\"OpenCV version:\", cv2.__version__)\n"
   ]
  },
  {
   "cell_type": "code",
   "execution_count": 5,
   "id": "f0fa5d92-d572-4b16-b074-8fd53408f546",
   "metadata": {},
   "outputs": [
    {
     "ename": "SyntaxError",
     "evalue": "invalid syntax (1188073993.py, line 1)",
     "output_type": "error",
     "traceback": [
      "\u001b[1;36m  Cell \u001b[1;32mIn[5], line 1\u001b[1;36m\u001b[0m\n\u001b[1;33m    python test_opencv.py\u001b[0m\n\u001b[1;37m           ^\u001b[0m\n\u001b[1;31mSyntaxError\u001b[0m\u001b[1;31m:\u001b[0m invalid syntax\n"
     ]
    }
   ],
   "source": [
    "python test_opencv.py\n"
   ]
  },
  {
   "cell_type": "code",
   "execution_count": 3,
   "id": "a4ac5bdd-f7db-467a-b550-3900184af118",
   "metadata": {},
   "outputs": [
    {
     "ename": "error",
     "evalue": "OpenCV(4.7.0) D:\\a\\opencv-python\\opencv-python\\opencv\\modules\\imgproc\\src\\color.cpp:182: error: (-215:Assertion failed) !_src.empty() in function 'cv::cvtColor'\n",
     "output_type": "error",
     "traceback": [
      "\u001b[1;31m---------------------------------------------------------------------------\u001b[0m",
      "\u001b[1;31merror\u001b[0m                                     Traceback (most recent call last)",
      "Cell \u001b[1;32mIn[3], line 13\u001b[0m\n\u001b[0;32m      9\u001b[0m \u001b[38;5;28;01mwhile\u001b[39;00m \u001b[38;5;28;01mTrue\u001b[39;00m:\n\u001b[0;32m     11\u001b[0m     _,img \u001b[38;5;241m=\u001b[39m cam\u001b[38;5;241m.\u001b[39mread() \u001b[38;5;66;03m# read the frame from the camera\u001b[39;00m\n\u001b[1;32m---> 13\u001b[0m     grayImg \u001b[38;5;241m=\u001b[39m \u001b[43mcv2\u001b[49m\u001b[38;5;241;43m.\u001b[39;49m\u001b[43mcvtColor\u001b[49m\u001b[43m(\u001b[49m\u001b[43mimg\u001b[49m\u001b[43m,\u001b[49m\u001b[43mcv2\u001b[49m\u001b[38;5;241;43m.\u001b[39;49m\u001b[43mCOLOR_BGR2GRAY\u001b[49m\u001b[43m)\u001b[49m \u001b[38;5;66;03m# converting color into gray scale image\u001b[39;00m\n\u001b[0;32m     15\u001b[0m     face \u001b[38;5;241m=\u001b[39m cascade\u001b[38;5;241m.\u001b[39mdetectMultiScale(grayImg) \u001b[38;5;66;03m# get coordinates of face\u001b[39;00m\n\u001b[0;32m     17\u001b[0m     \u001b[38;5;28;01mfor\u001b[39;00m (x, y, w, h) \u001b[38;5;129;01min\u001b[39;00m face: \u001b[38;5;66;03m# segregating x,y,w,h\u001b[39;00m\n",
      "\u001b[1;31merror\u001b[0m: OpenCV(4.7.0) D:\\a\\opencv-python\\opencv-python\\opencv\\modules\\imgproc\\src\\color.cpp:182: error: (-215:Assertion failed) !_src.empty() in function 'cv::cvtColor'\n"
     ]
    }
   ],
   "source": [
    "import cv2 # import openCV\n",
    "\n",
    "alg = 'haarcascade_frontalface_default.xml'  # accessed the model file\n",
    "\n",
    "cascade = cv2.CascadeClassifier(alg) # loading the model with cv2\n",
    "\n",
    "cam = cv2.VideoCapture(0) # initialization camera\n",
    "\n",
    "while True:\n",
    "    \n",
    "    _,img = cam.read() # read the frame from the camera\n",
    "    \n",
    "    grayImg = cv2.cvtColor(img,cv2.COLOR_BGR2GRAY) # converting color into gray scale image\n",
    "\n",
    "    face = cascade.detectMultiScale(grayImg) # get coordinates of face\n",
    "\n",
    "    for (x, y, w, h) in face: # segregating x,y,w,h\n",
    "        \n",
    "        cv2.rectangle(img, (x, y), (x + w, y + h),(0,255,0),2) # draw the retangle\n",
    "\n",
    "    cv2.imshow(\"FaceDetect\",img)\n",
    "\n",
    "    key = cv2.waitKey(1)\n",
    "\n",
    "    if key == 81 or key == 113 :\n",
    "        break\n",
    "\n",
    "cam.release()\n",
    "cv2.destroyAllWindows()"
   ]
  },
  {
   "cell_type": "code",
   "execution_count": null,
   "id": "4c6413c6-a609-4224-b9eb-568648337a1b",
   "metadata": {},
   "outputs": [],
   "source": []
  }
 ],
 "metadata": {
  "kernelspec": {
   "display_name": "Python 3 (ipykernel)",
   "language": "python",
   "name": "python3"
  },
  "language_info": {
   "codemirror_mode": {
    "name": "ipython",
    "version": 3
   },
   "file_extension": ".py",
   "mimetype": "text/x-python",
   "name": "python",
   "nbconvert_exporter": "python",
   "pygments_lexer": "ipython3",
   "version": "3.8.19"
  }
 },
 "nbformat": 4,
 "nbformat_minor": 5
}
