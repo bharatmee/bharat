{
 "cells": [
  {
   "cell_type": "markdown",
   "id": "ea4941f1",
   "metadata": {},
   "source": [
    "# Check Version"
   ]
  },
  {
   "cell_type": "code",
   "execution_count": 1,
   "id": "ab689e9d",
   "metadata": {},
   "outputs": [
    {
     "name": "stdout",
     "output_type": "stream",
     "text": [
      "3.8.19 (default, Mar 20 2024, 19:55:45) [MSC v.1916 64 bit (AMD64)]\n"
     ]
    }
   ],
   "source": [
    "import sys\n",
    "print(sys.version)\n"
   ]
  },
  {
   "cell_type": "code",
   "execution_count": 2,
   "id": "384f7b06",
   "metadata": {},
   "outputs": [
    {
     "name": "stdout",
     "output_type": "stream",
     "text": [
      "OpenCV version: 4.7.0\n"
     ]
    }
   ],
   "source": [
    "import cv2\n",
    "print(\"OpenCV version:\", cv2.__version__)"
   ]
  },
  {
   "cell_type": "markdown",
   "id": "3d71d975",
   "metadata": {},
   "source": [
    "# how to read image"
   ]
  },
  {
   "cell_type": "code",
   "execution_count": 34,
   "id": "ec72306e",
   "metadata": {},
   "outputs": [
    {
     "data": {
      "text/plain": [
       "-1"
      ]
     },
     "execution_count": 34,
     "metadata": {},
     "output_type": "execute_result"
    }
   ],
   "source": [
    "img = cv2.imread('khanna.jpeg') # image read\n",
    "cv2.imshow(\"wscube Tech\",img) # image show\n",
    "cv2.imshow(\"wscube Tech1\",img)\n",
    "cv2.waitKey(0)# image frame wait   time- ms   and 0 pass keyboard any key press\n",
    "# cv2.destroyAllWindows() # all window close\n",
    "# cv2.destroywindow(\"wscube Tech\")# only one window close"
   ]
  },
  {
   "cell_type": "markdown",
   "id": "52bc423f",
   "metadata": {},
   "source": [
    "# show multiple images and slide show"
   ]
  },
  {
   "cell_type": "code",
   "execution_count": 35,
   "id": "df9792e6",
   "metadata": {},
   "outputs": [],
   "source": [
    "import cv2\n",
    "import numpy as np"
   ]
  },
  {
   "cell_type": "code",
   "execution_count": 36,
   "id": "8e6174da",
   "metadata": {},
   "outputs": [
    {
     "data": {
      "text/plain": [
       "-1"
      ]
     },
     "execution_count": 36,
     "metadata": {},
     "output_type": "execute_result"
    }
   ],
   "source": [
    "img = cv2.imread(r\"D:\\bharat\\Images\\thumb.jpeg\")\n",
    "re_img = cv2.resize(img,(400,200))\n",
    "cv2.imshow(\"bharat\", img)\n",
    "cv2.waitKey(0)"
   ]
  },
  {
   "cell_type": "code",
   "execution_count": 37,
   "id": "41548242",
   "metadata": {},
   "outputs": [
    {
     "data": {
      "text/plain": [
       "-1"
      ]
     },
     "execution_count": 37,
     "metadata": {},
     "output_type": "execute_result"
    }
   ],
   "source": [
    "img = cv2.imread(r\"D:\\bharat\\Images\\wish.jpeg\")\n",
    "re_img = cv2.resize(img,(300,300))\n",
    "h = np.hstack((re_img,re_img,re_img))\n",
    "v = np.vstack((h,h,h)) \n",
    "cv2.imshow(\"bharat1\",v)\n",
    "cv2.waitKey(0)"
   ]
  },
  {
   "cell_type": "code",
   "execution_count": 38,
   "id": "584b6535",
   "metadata": {},
   "outputs": [],
   "source": [
    "import os"
   ]
  },
  {
   "cell_type": "code",
   "execution_count": 39,
   "id": "a92b1089",
   "metadata": {},
   "outputs": [
    {
     "data": {
      "text/plain": [
       "['03a0064f-65fd-4fd7-b8ed-a71734169c5c.jpeg',\n",
       " '174274b8-1916-4a5a-bd5d-1bf5ddf0d8a6.jpeg',\n",
       " '1a9cbefb-1e91-46c2-a977-c1758ec8f1cf.jpeg',\n",
       " '2fec8854-1c86-4ba8-900c-3a8c9d20e7ea.jpeg',\n",
       " '3bf2dd81-60f3-489a-adc4-5b8cdb8b409e.jpeg',\n",
       " '581debf6-8138-4b97-a638-6a421f04ee2f.jpeg',\n",
       " '5c0eb252-5a41-476f-88e8-c40129b7d44f.jpeg',\n",
       " '65d3b7ea-c03b-4fae-9683-790989b0c200.jpeg',\n",
       " '8ecce0e3-6f6b-414f-a328-1191c6a1b913.jpeg',\n",
       " '98147e87-3440-4dfe-9efa-87c87ff3a8c3.jpeg',\n",
       " '98968c12-a3b3-4b7e-81d0-6c4dcfbf52f1.jpeg',\n",
       " 'a.png',\n",
       " 'ann-margaret-1235441_640.jpg',\n",
       " 'Beautiful Face.jpeg',\n",
       " 'download (1).jpeg',\n",
       " 'download (2).jpeg',\n",
       " 'download (3).jpeg',\n",
       " 'download (4).jpeg',\n",
       " 'download.jpeg',\n",
       " 'e29323ab-10db-4831-83b3-5676e26a5381.jpeg',\n",
       " 'Fashion Trends That Have Been Aging Us Without Realizing.jpeg',\n",
       " 'gettyimages-185300404-612x612.jpg',\n",
       " 'hair hairstyling _ hair and skin and nails.jpeg',\n",
       " 'image-1SELENA-GOMEZ.webp',\n",
       " 'Khanna.jpeg',\n",
       " 'rashmika.jpg',\n",
       " 'thumb.jpeg',\n",
       " 'wish.jpeg']"
      ]
     },
     "execution_count": 39,
     "metadata": {},
     "output_type": "execute_result"
    }
   ],
   "source": [
    "list_name = os.listdir(r\"D:\\bharat\\Images\")\n",
    "list_name"
   ]
  },
  {
   "cell_type": "code",
   "execution_count": 56,
   "id": "012ea5ff",
   "metadata": {},
   "outputs": [],
   "source": [
    "for name in list_name:\n",
    "    path = \"D:\\\\bharat\\\\Images\"\n",
    "    img_name = path + \"\\\\\"+ name\n",
    "    img = cv2.imread(img_name)\n",
    "    img = cv2.resize(img,(1000,800))\n",
    "    cv2.imshow(\"wscube\",img)\n",
    "    cv2.waitKey(1000)\n",
    "cv2.destroyAllWindows()\n",
    "    \n",
    "    \n",
    "    "
   ]
  },
  {
   "cell_type": "code",
   "execution_count": null,
   "id": "23cfc405",
   "metadata": {},
   "outputs": [],
   "source": []
  }
 ],
 "metadata": {
  "kernelspec": {
   "display_name": "Python 3 (ipykernel)",
   "language": "python",
   "name": "python3"
  },
  "language_info": {
   "codemirror_mode": {
    "name": "ipython",
    "version": 3
   },
   "file_extension": ".py",
   "mimetype": "text/x-python",
   "name": "python",
   "nbconvert_exporter": "python",
   "pygments_lexer": "ipython3",
   "version": "3.10.9"
  }
 },
 "nbformat": 4,
 "nbformat_minor": 5
}
