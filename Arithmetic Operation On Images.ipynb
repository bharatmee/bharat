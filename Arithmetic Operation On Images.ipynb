{
 "cells": [
  {
   "cell_type": "markdown",
   "id": "d18cdb2b",
   "metadata": {},
   "source": [
    "# Concinate(add) two images"
   ]
  },
  {
   "cell_type": "code",
   "execution_count": 1,
   "id": "474ad281",
   "metadata": {},
   "outputs": [],
   "source": [
    "import cv2"
   ]
  },
  {
   "cell_type": "code",
   "execution_count": 7,
   "id": "88f06dad",
   "metadata": {},
   "outputs": [],
   "source": [
    "img1 = cv2.imread(\"a.png\")\n",
    "img2 = cv2.imread(\"Khanna.jpeg\")\n",
    "img1 = cv2.resize(img1,(500,500))\n",
    "img2 = cv2.resize(img2,(500,500))\n",
    "\n",
    "new_img = cv2.addWeighted(img1,.5,img2,.5,1)\n",
    "cv2.imshow(\"imges\", new_img)\n",
    "cv2.waitKey(0)\n",
    "cv2.destroyAllWindows()"
   ]
  },
  {
   "cell_type": "markdown",
   "id": "0387c342",
   "metadata": {},
   "source": [
    "# Substract two images"
   ]
  },
  {
   "cell_type": "code",
   "execution_count": 10,
   "id": "bc53ac25",
   "metadata": {},
   "outputs": [],
   "source": [
    "img1 = cv2.imread(\"a.png\")\n",
    "img2 = cv2.imread(\"Khanna.jpeg\")\n",
    "img1 = cv2.resize(img1,(500,500))\n",
    "img2 = cv2.resize(img2,(500,500))\n",
    "\n",
    "# new_img = cv2.addWeighted(img1,.5,img2,.5,1)\n",
    "new_img = cv2.subtract(img2,img1)\n",
    "cv2.imshow(\"imges\", new_img)\n",
    "cv2.waitKey(0)\n",
    "cv2.destroyAllWindows()"
   ]
  },
  {
   "cell_type": "markdown",
   "id": "2011ef35",
   "metadata": {},
   "source": [
    "# bitwise operation on images using opencv"
   ]
  },
  {
   "cell_type": "code",
   "execution_count": null,
   "id": "2543f504",
   "metadata": {},
   "outputs": [],
   "source": []
  }
 ],
 "metadata": {
  "kernelspec": {
   "display_name": "Python 3 (ipykernel)",
   "language": "python",
   "name": "python3"
  },
  "language_info": {
   "codemirror_mode": {
    "name": "ipython",
    "version": 3
   },
   "file_extension": ".py",
   "mimetype": "text/x-python",
   "name": "python",
   "nbconvert_exporter": "python",
   "pygments_lexer": "ipython3",
   "version": "3.10.9"
  }
 },
 "nbformat": 4,
 "nbformat_minor": 5
}
