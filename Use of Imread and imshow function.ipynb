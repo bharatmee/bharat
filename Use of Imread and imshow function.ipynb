{
 "cells": [
  {
   "cell_type": "code",
   "execution_count": 160,
   "id": "98505cf0",
   "metadata": {},
   "outputs": [],
   "source": [
    "import cv2"
   ]
  },
  {
   "cell_type": "code",
   "execution_count": 161,
   "id": "42b00598",
   "metadata": {},
   "outputs": [
    {
     "name": "stdout",
     "output_type": "stream",
     "text": [
      "(2083, 960, 3)\n"
     ]
    }
   ],
   "source": [
    "img = cv2.imread(\"a.png\",1)# bgr  (0-255,0-255,0-255)\n",
    "# print(img)\n",
    "print(img.shape)\n",
    "img = cv2.resize(img,(500,700))\n",
    "cv2.imshow(\"image\",img)\n",
    "cv2.waitKey(0)\n",
    "cv2.destroyAllWindows()"
   ]
  },
  {
   "cell_type": "code",
   "execution_count": 16,
   "id": "d90d127f",
   "metadata": {},
   "outputs": [
    {
     "name": "stdout",
     "output_type": "stream",
     "text": [
      "(2083, 960, 3)\n"
     ]
    }
   ],
   "source": [
    " img = cv2.imread(\"a.png\",-1)# bgr  (0-255,0-255,0-255)\n",
    "# print(img)\n",
    "print(img.shape)\n",
    "img = cv2.resize(img,(500,700))\n",
    "cv2.imshow(\"image\",img)\n",
    "cv2.waitKey(0)\n",
    "cv2.destroyAllWindows()"
   ]
  },
  {
   "cell_type": "markdown",
   "id": "03b0cfa2",
   "metadata": {},
   "source": [
    "## this is the gray scale image i.e. it is not showing channel "
   ]
  },
  {
   "cell_type": "code",
   "execution_count": 15,
   "id": "e5e6b6ea",
   "metadata": {},
   "outputs": [
    {
     "name": "stdout",
     "output_type": "stream",
     "text": [
      "(2083, 960)\n"
     ]
    }
   ],
   "source": [
    "img = cv2.imread(\"a.png\",0)# bgr  (0-255,0-255,0-255)\n",
    "# print(img)\n",
    "print(img.shape)\n",
    "img = cv2.resize(img,(500,700))\n",
    "cv2.imshow(\"image\",img)\n",
    "cv2.waitKey(0)\n",
    "cv2.destroyAllWindows()"
   ]
  },
  {
   "cell_type": "markdown",
   "id": "dab77fbc",
   "metadata": {},
   "source": [
    "# Text Over a Image"
   ]
  },
  {
   "cell_type": "code",
   "execution_count": 20,
   "id": "37aca248",
   "metadata": {},
   "outputs": [],
   "source": [
    "# putText(img, text, org, fontFace, fontScale, color[, thickness[, lineType[, bottomLeftOrigin]]]) -> img"
   ]
  },
  {
   "cell_type": "code",
   "execution_count": 68,
   "id": "1aa5a34b",
   "metadata": {},
   "outputs": [],
   "source": [
    "import cv2"
   ]
  },
  {
   "cell_type": "code",
   "execution_count": 39,
   "id": "78f0dc9b",
   "metadata": {},
   "outputs": [],
   "source": [
    "img_get= cv2.imread(r\"D:\\\\bharat\\\\Images\\\\wish.jpeg\")\n",
    "img_get = cv2.resize(img_get,(500,600))\n",
    "\n",
    "txt = cv2.putText(img = img_get,\n",
    "text = \"wscube\",\n",
    "org = (50,500),\n",
    "fontFace = cv2.FONT_HERSHEY_DUPLEX,\n",
    "fontScale= 3,\n",
    "color = (255,0,0),\n",
    "thickness = 3,\n",
    "lineType = cv2.LINE_8,\n",
    "bottomLeftOrigin = False)\n",
    "\n",
    "txt = cv2.putText(img = txt,\n",
    "text = \"wscube\",\n",
    "org = (50,500),\n",
    "fontFace = cv2.FONT_HERSHEY_DUPLEX,\n",
    "fontScale= 3,\n",
    "color = (0,0,255),\n",
    "thickness = 3,\n",
    "lineType = cv2.LINE_8,\n",
    "bottomLeftOrigin = True)\n",
    "\n",
    "cv2.imshow(\"image\",txt)\n",
    "cv2.waitKey(0)\n",
    "cv2.destroyAllWindows()\n"
   ]
  },
  {
   "cell_type": "markdown",
   "id": "6fd97866",
   "metadata": {},
   "source": [
    "# Draw line and recangle on image"
   ]
  },
  {
   "cell_type": "markdown",
   "id": "bea01938",
   "metadata": {},
   "source": [
    "# Draw line"
   ]
  },
  {
   "cell_type": "code",
   "execution_count": 55,
   "id": "171da08b",
   "metadata": {},
   "outputs": [],
   "source": [
    "# line(img, pt1, pt2, color[, thickness[, lineType[, shift]]]) -> img"
   ]
  },
  {
   "cell_type": "code",
   "execution_count": 54,
   "id": "c71a72de",
   "metadata": {},
   "outputs": [],
   "source": [
    "import cv2\n",
    "old_img = cv2.imread(r\"D:\\\\bharat\\\\Images\\\\ann-margaret.jpg\")\n",
    "old_img = cv2.resize(old_img,(500,600))\n",
    "\n",
    "\n",
    "new_img = cv2.line(img= old_img, pt1 = (160,130), pt2= (270,130), color = (0,255,0), thickness = 4, lineType= 4)\n",
    "\n",
    "cv2.imshow(\"images\",old_img)\n",
    "cv2.waitKey(0)\n",
    "cv2.destroyAllWindows()"
   ]
  },
  {
   "cell_type": "markdown",
   "id": "09e52cda",
   "metadata": {},
   "source": [
    "# Draw Reactangle"
   ]
  },
  {
   "cell_type": "code",
   "execution_count": 89,
   "id": "4035e505",
   "metadata": {},
   "outputs": [],
   "source": [
    "import cv2\n",
    "old_img = cv2.imread(r\"D:\\\\bharat\\\\Images\\\\ann-margaret.jpg\")\n",
    "old_img = cv2.resize(old_img,(500,600))\n",
    "txt = cv2.putText(img = old_img, text = \"Actress\", org = (130,110), fontFace = 2, fontScale = 1.5,\n",
    "                  color = (0,255,0), thickness =2, lineType = 16)\n",
    "new_img = cv2.rectangle(img= old_img, pt1 = (140,130), pt2= (300,350), color = (0,0,200), thickness = 4, lineType= 4)\n",
    "# new_img = cv2.line(img= old_img, pt1 = (160,130), pt2= (270,130), color = (0,255,0), thickness = 4, lineType= 4)\n",
    "\n",
    "cv2.imshow(\"images\",old_img)\n",
    "cv2.waitKey(0)\n",
    "cv2.destroyAllWindows()"
   ]
  },
  {
   "cell_type": "markdown",
   "id": "cca0db53",
   "metadata": {},
   "source": [
    "# Draw Circle and Ellipse On Image"
   ]
  },
  {
   "cell_type": "code",
   "execution_count": 90,
   "id": "4d6a2b12",
   "metadata": {},
   "outputs": [],
   "source": [
    "import cv2"
   ]
  },
  {
   "cell_type": "code",
   "execution_count": 107,
   "id": "80078992",
   "metadata": {},
   "outputs": [],
   "source": [
    "old_img = cv2.imread(r\"D:\\\\bharat\\\\Images\\\\model.jpeg\")\n",
    "old_img = cv2.resize(old_img, (500,700))\n",
    "\n",
    "new_img = cv2.circle(img = old_img , center = (250,250), radius = 135, color = (0,0,255), thickness = 1, lineType = 16 )\n",
    "\n",
    "cv2.imshow(\"images\",new_img)\n",
    "cv2.waitKey(0)\n",
    "cv2.destroyAllWindows()"
   ]
  },
  {
   "cell_type": "markdown",
   "id": "b6a7b8d0",
   "metadata": {},
   "source": [
    "# Draw Ellipse"
   ]
  },
  {
   "cell_type": "code",
   "execution_count": null,
   "id": "19154cc2",
   "metadata": {},
   "outputs": [],
   "source": [
    "#  ellipse(img, center, axes, angle, startAngle, endAngle, color[, thickness[, lineType[, shift]]]) -> img"
   ]
  },
  {
   "cell_type": "code",
   "execution_count": 108,
   "id": "5b45572d",
   "metadata": {},
   "outputs": [],
   "source": [
    "import cv2"
   ]
  },
  {
   "cell_type": "code",
   "execution_count": 135,
   "id": "7ed7ee47",
   "metadata": {},
   "outputs": [],
   "source": [
    "old_img = cv2.imread(r\"D:\\\\bharat\\\\Images\\\\model.jpeg\")\n",
    "old_img = cv2.resize(old_img, (500,700))\n",
    "\n",
    "new_img = cv2.putText(img = old_img, text = \"Anand ki gf\", org = (120,100), fontFace = 2, fontScale = 1.5, color = (255,0,0), \n",
    "                      thickness = 2, lineType = 16)\n",
    "new_img = cv2.ellipse(img = old_img , center = (270,260), axes = (100,140), angle = 30, startAngle = 0 , endAngle = 360,\n",
    "                      color = (0,255,0), thickness = 3, lineType = 16)\n",
    "# new_img = cv2.circle(img = old_img , center = (250,250), radius = 135, color = (0,0,255), thickness = 1, lineType = 16 )\n",
    "\n",
    "cv2.imshow(\"images\",new_img)\n",
    "cv2.waitKey(0)\n",
    "cv2.destroyAllWindows()"
   ]
  },
  {
   "cell_type": "markdown",
   "id": "21a8eb12",
   "metadata": {},
   "source": [
    "# Draw Polygons"
   ]
  },
  {
   "cell_type": "code",
   "execution_count": 136,
   "id": "9890c15a",
   "metadata": {},
   "outputs": [],
   "source": [
    "import cv2\n",
    "import numpy as np"
   ]
  },
  {
   "cell_type": "code",
   "execution_count": 159,
   "id": "bc6c39e1",
   "metadata": {},
   "outputs": [],
   "source": [
    "old_img = cv2.imread(r\"D:\\\\bharat\\\\Images\\\\vanhancing.jpeg\")\n",
    "old_img = cv2.resize(old_img, (500,700))\n",
    "\n",
    "new_img = cv2.polylines(img = old_img, pts = [np.array([[100,200],[150,100],[300,50],[350,200],[300,300],[150,300],[100,200]])], \n",
    "                        isClosed = True, color = (0,0,255), thickness = 4, lineType= 16)\n",
    "\n",
    "cv2.imshow(\"images\",old_img)\n",
    "cv2.waitKey(0)\n",
    "cv2.destroyAllWindows()"
   ]
  },
  {
   "cell_type": "code",
   "execution_count": null,
   "id": "6cf5568b",
   "metadata": {},
   "outputs": [],
   "source": []
  }
 ],
 "metadata": {
  "kernelspec": {
   "display_name": "Python 3 (ipykernel)",
   "language": "python",
   "name": "python3"
  },
  "language_info": {
   "codemirror_mode": {
    "name": "ipython",
    "version": 3
   },
   "file_extension": ".py",
   "mimetype": "text/x-python",
   "name": "python",
   "nbconvert_exporter": "python",
   "pygments_lexer": "ipython3",
   "version": "3.10.9"
  }
 },
 "nbformat": 4,
 "nbformat_minor": 5
}
