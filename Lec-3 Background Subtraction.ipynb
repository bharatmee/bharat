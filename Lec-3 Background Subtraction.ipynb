{
 "cells": [
  {
   "cell_type": "code",
   "execution_count": null,
   "id": "31955926",
   "metadata": {},
   "outputs": [],
   "source": [
    "import cv2\n",
    "import numpy as np"
   ]
  },
  {
   "cell_type": "code",
   "execution_count": null,
   "id": "a3ecad17",
   "metadata": {},
   "outputs": [],
   "source": [
    "org_v = cv2.VideoCapture(r\"D:\\bharat\\video_for_opencv\\1 Introduction To Recursion.mp4\")\n",
    "sub_m  = cv2.createBackgroundSubtractorMOG2()\n",
    "\n",
    "while True:\n",
    "    r,frame = org_v.read()\n",
    "    if r == True:\n",
    "        frame = cv2.resize(frame,(500,500))\n",
    "        sub_v  = sub_m.apply(frame)\n",
    "        cv2.imshow(\"videos\",sub_v)\n",
    "        cv2.imshow(\"videos1\",frame)\n",
    "        if cv2.waitKey(25) & 0xff == ord(\"p\"):\n",
    "            break\n",
    "        \n",
    "    else:\n",
    "        break\n",
    "org_v.release()\n",
    "cv2.destroyAllWindows()"
   ]
  },
  {
   "cell_type": "code",
   "execution_count": null,
   "id": "8b7cdcf0",
   "metadata": {},
   "outputs": [],
   "source": []
  },
  {
   "cell_type": "markdown",
   "id": "7477b735",
   "metadata": {},
   "source": [
    "# Extract Images From Video"
   ]
  },
  {
   "cell_type": "code",
   "execution_count": null,
   "id": "ed57c972",
   "metadata": {},
   "outputs": [],
   "source": [
    "import cv2"
   ]
  },
  {
   "cell_type": "code",
   "execution_count": null,
   "id": "7cf429e8",
   "metadata": {},
   "outputs": [],
   "source": [
    "cap = cv2.VideoCapture(r\"D:\\OPENCV VIDEO\\kushal_pitai.mp4\")\n",
    "\n",
    "c = 0\n",
    "\n",
    "while True:\n",
    "    r,frame = cap.read()\n",
    "    if r == True:\n",
    "        frame = cv2.resize(frame,(500,500))\n",
    "        filename = \"D://bharat//Images//video_to_images//org_img_\"+str(c)+\".png\"\n",
    "        cv2.imwrite(filename,frame)\n",
    "        \n",
    "        cv2.imshow(\"videos\",frame)\n",
    "        c = c+1\n",
    "        if cv2.waitKey(15) & 0xff == ord(\"p\"):\n",
    "            break\n",
    "    else:\n",
    "        break\n",
    "        \n",
    "cap.release()\n",
    "cv2.destroyAllWindows()"
   ]
  },
  {
   "cell_type": "markdown",
   "id": "46da6690",
   "metadata": {},
   "source": [
    "# cvtColor method"
   ]
  },
  {
   "cell_type": "code",
   "execution_count": null,
   "id": "49a06a3f",
   "metadata": {},
   "outputs": [],
   "source": [
    "import cv2"
   ]
  },
  {
   "cell_type": "code",
   "execution_count": null,
   "id": "eb9fe183",
   "metadata": {},
   "outputs": [],
   "source": [
    "org_img = cv2.imread(\"Beautiful Face.jpeg\")\n",
    "org_img = cv2.resize(org_img,(500,500))\n",
    "\n",
    "new = cv2.cvtColor(org_img, cv2.COLOR_BGR2GRAY)\n",
    "\n",
    "\n",
    "new1 = cv2.cvtColor(org_img, cv2.COLOR_HLS2BGR)\n",
    "\n",
    "cv2.imshow(\"images\",org_img)\n",
    "cv2.imshow(\"images1\",new)\n",
    "cv2.imshow(\"images2\",new1)\n",
    "cv2.waitKey(0)\n",
    "cv2.destroyAllWindows()"
   ]
  },
  {
   "cell_type": "markdown",
   "id": "9c88c296",
   "metadata": {},
   "source": [
    "# CROP IMAGES USING OPENCV"
   ]
  },
  {
   "cell_type": "code",
   "execution_count": null,
   "id": "ad52842b",
   "metadata": {},
   "outputs": [],
   "source": [
    "import cv2"
   ]
  },
  {
   "cell_type": "code",
   "execution_count": null,
   "id": "a53986a8",
   "metadata": {},
   "outputs": [],
   "source": [
    "img = cv2.imread(\"Beautiful Face.jpeg\")\n",
    "img = cv2.resize(img,(500,500))\n",
    "\n",
    "print(img.shape)\n",
    "\n",
    "crop = img[:,:200]\n",
    "\n",
    "\n",
    "\n",
    "cv2.imshow(\"images\",img)\n",
    "cv2.imshow(\"crop_image\",crop)\n",
    "cv2.waitKey(0)\n",
    "cv2.destroyAllWindows()"
   ]
  },
  {
   "cell_type": "code",
   "execution_count": null,
   "id": "7441418b",
   "metadata": {},
   "outputs": [],
   "source": [
    "img = cv2.imread(\"Beautiful Face.jpeg\")\n",
    "img = cv2.resize(img,(500,500))\n",
    "\n",
    "print(img.shape)\n",
    "\n",
    "\n",
    "#img[y1:y2,  x1:x2]\n",
    "crop = img[115:150,200:400]\n",
    "\n",
    "\n",
    "\n",
    "cv2.imshow(\"images\",img)\n",
    "cv2.imshow(\"crop_image\",crop)\n",
    "cv2.waitKey(0)\n",
    "cv2.destroyAllWindows()"
   ]
  },
  {
   "cell_type": "markdown",
   "id": "93cc2447",
   "metadata": {},
   "source": [
    "# Create Blank Image"
   ]
  },
  {
   "cell_type": "code",
   "execution_count": null,
   "id": "6aac5a60",
   "metadata": {},
   "outputs": [],
   "source": [
    "import cv2 \n",
    "import numpy as np"
   ]
  },
  {
   "cell_type": "code",
   "execution_count": null,
   "id": "0b0ee55e",
   "metadata": {},
   "outputs": [],
   "source": [
    "img = cv2.imread(\"Beautiful Face.jpeg\")\n"
   ]
  },
  {
   "cell_type": "markdown",
   "id": "ad5b0a43",
   "metadata": {},
   "source": [
    "# create blank white imges "
   ]
  },
  {
   "cell_type": "code",
   "execution_count": null,
   "id": "ca74d2e1",
   "metadata": {},
   "outputs": [],
   "source": [
    "new_img = np.ones((500,500,3),np.uint8)*255\n",
    "cv2.imshow(\"Images\",new_img)\n",
    "cv2.waitKey(0)\n",
    "cv2.destroyAllWindows()"
   ]
  },
  {
   "cell_type": "markdown",
   "id": "ca200d69",
   "metadata": {},
   "source": [
    "# create blank black Image"
   ]
  },
  {
   "cell_type": "code",
   "execution_count": null,
   "id": "77ab4244",
   "metadata": {},
   "outputs": [],
   "source": [
    "new_img = np.ones((500,500,3),np.uint8)*0\n",
    "cv2.imshow(\"Images\",new_img)\n",
    "cv2.waitKey(0)\n",
    "cv2.destroyAllWindows()"
   ]
  },
  {
   "cell_type": "markdown",
   "id": "12841056",
   "metadata": {},
   "source": [
    "# Color Picker "
   ]
  },
  {
   "cell_type": "code",
   "execution_count": null,
   "id": "85e0262e",
   "metadata": {},
   "outputs": [],
   "source": [
    "import cv2 \n",
    "import numpy as np"
   ]
  },
  {
   "cell_type": "code",
   "execution_count": null,
   "id": "dfc53250",
   "metadata": {},
   "outputs": [],
   "source": [
    "def wscube(x):\n",
    "    pass"
   ]
  },
  {
   "cell_type": "code",
   "execution_count": null,
   "id": "555ca3f7",
   "metadata": {},
   "outputs": [],
   "source": [
    "img = np.zeros((500,500,3),np.uint8)*255\n",
    "cv2.namedWindow(\"colour\")\n",
    "\n",
    "cv2.createTrackbar(\"R\",\"colour\",0,255,wscube)\n",
    "cv2.createTrackbar(\"G\",\"colour\",0,255,wscube)\n",
    "cv2.createTrackbar(\"B\",\"colour\",0,255,wscube)\n",
    "while True:\n",
    "    cv2.imshow(\"colour\",img)\n",
    "    if cv2.waitKey(1) & 0xff == ord(\"p\"):\n",
    "        break\n",
    "    \n",
    "    r = cv2.getTrackbarPos(\"R\",\"colour\")\n",
    "    g = cv2.getTrackbarPos(\"G\",\"colour\")\n",
    "    b = cv2.getTrackbarPos(\"B\",\"colour\")\n",
    "    \n",
    "    img[:] = [b,g,r]\n",
    "    \n",
    "cv2.destroyAllWindows()\n"
   ]
  },
  {
   "cell_type": "markdown",
   "id": "fe418e74",
   "metadata": {},
   "source": [
    "# getTrackbarPos() Function in Opencv"
   ]
  },
  {
   "cell_type": "code",
   "execution_count": 1,
   "id": "c1cc2fac",
   "metadata": {},
   "outputs": [],
   "source": [
    "import cv2\n",
    "import numpy as np"
   ]
  },
  {
   "cell_type": "code",
   "execution_count": 2,
   "id": "ecd504a3",
   "metadata": {},
   "outputs": [],
   "source": [
    "def wscube(x):\n",
    "    pass"
   ]
  },
  {
   "cell_type": "code",
   "execution_count": 7,
   "id": "b2d26405",
   "metadata": {
    "scrolled": false
   },
   "outputs": [],
   "source": [
    "img = np.zeros((500,500,3),np.uint8)\n",
    "cv2.namedWindow(\"bar\")\n",
    "cv2.createTrackbar(\"on\",\"bar\",0,100,wscube)\n",
    "\n",
    "while True:\n",
    "    cv2.imshow(\"bar\",img)\n",
    "    if cv2.waitKey(1) & 0xff == ord(\"p\"):\n",
    "        break\n",
    "        \n",
    "    on = cv2.getTrackbarPos(\"on\",\"bar\")\n",
    "    img[:] = [0,0,on]\n",
    "\n",
    "# cv2.waitKey(0)\n",
    "cv2.destroyAllWindows()   \n",
    "    \n",
    "\n",
    "\n",
    "\n"
   ]
  },
  {
   "cell_type": "code",
   "execution_count": null,
   "id": "d151bd8d",
   "metadata": {},
   "outputs": [],
   "source": [
    "cv2.imshow(\"wscube\",img)\n",
    "cv2.waitKey(0)\n",
    "cv2.destroyAllWindows()"
   ]
  },
  {
   "cell_type": "markdown",
   "id": "628a2784",
   "metadata": {},
   "source": [
    "# Region of Interest"
   ]
  },
  {
   "cell_type": "code",
   "execution_count": 8,
   "id": "da372da8",
   "metadata": {},
   "outputs": [],
   "source": [
    "import cv2\n",
    "import numpy as np"
   ]
  },
  {
   "cell_type": "code",
   "execution_count": 22,
   "id": "27a30f3b",
   "metadata": {},
   "outputs": [],
   "source": [
    "img = cv2.imread(r\"D:\\bharat\\Images\\salman.webp\")\n",
    "img = cv2.resize(img,(500,500))\n",
    "\n",
    "cv2.imwrite(r\"D:\\bharat\\Images\\save.jpg\",img)\n",
    "cv2.imshow(\"wscube\",img)\n",
    "cv2.waitKey(0)\n",
    "cv2.destroyAllWindows()"
   ]
  },
  {
   "cell_type": "code",
   "execution_count": 25,
   "id": "e1a5ac4d",
   "metadata": {},
   "outputs": [
    {
     "data": {
      "text/plain": [
       "(205, 0.5071428571428571, 225)"
      ]
     },
     "execution_count": 25,
     "metadata": {},
     "output_type": "execute_result"
    }
   ],
   "source": [
    "# img[y1:y2,x1:x2]\n",
    "\n",
    "205,142/  280,225"
   ]
  },
  {
   "cell_type": "code",
   "execution_count": 36,
   "id": "856ddded",
   "metadata": {},
   "outputs": [
    {
     "ename": "ValueError",
     "evalue": "could not broadcast input array from shape (83,65,3) into shape (83,70,3)",
     "output_type": "error",
     "traceback": [
      "\u001b[1;31m---------------------------------------------------------------------------\u001b[0m",
      "\u001b[1;31mValueError\u001b[0m                                Traceback (most recent call last)",
      "Cell \u001b[1;32mIn[36], line 14\u001b[0m\n\u001b[0;32m     11\u001b[0m img[\u001b[38;5;241m142\u001b[39m:\u001b[38;5;241m225\u001b[39m, \u001b[38;5;241m275\u001b[39m:\u001b[38;5;241m340\u001b[39m] \u001b[38;5;241m=\u001b[39m crop    \u001b[38;5;66;03m#right\u001b[39;00m\n\u001b[0;32m     12\u001b[0m img[\u001b[38;5;241m142\u001b[39m:\u001b[38;5;241m225\u001b[39m, \u001b[38;5;241m345\u001b[39m:\u001b[38;5;241m410\u001b[39m] \u001b[38;5;241m=\u001b[39m crop    \u001b[38;5;66;03m#right\u001b[39;00m\n\u001b[1;32m---> 14\u001b[0m img[\u001b[38;5;241m142\u001b[39m:\u001b[38;5;241m225\u001b[39m, \u001b[38;5;241m190\u001b[39m:\u001b[38;5;241m260\u001b[39m] \u001b[38;5;241m=\u001b[39m crop \n\u001b[0;32m     17\u001b[0m \u001b[38;5;66;03m# Save and display the image\u001b[39;00m\n\u001b[0;32m     18\u001b[0m cv2\u001b[38;5;241m.\u001b[39mimwrite(\u001b[38;5;124mr\u001b[39m\u001b[38;5;124m\"\u001b[39m\u001b[38;5;124mD:\u001b[39m\u001b[38;5;124m\\\u001b[39m\u001b[38;5;124mbharat\u001b[39m\u001b[38;5;124m\\\u001b[39m\u001b[38;5;124mImages\u001b[39m\u001b[38;5;124m\\\u001b[39m\u001b[38;5;124msave.jpg\u001b[39m\u001b[38;5;124m\"\u001b[39m, img)\n",
      "\u001b[1;31mValueError\u001b[0m: could not broadcast input array from shape (83,65,3) into shape (83,70,3)"
     ]
    }
   ],
   "source": [
    "import cv2\n",
    "\n",
    "# Read the image\n",
    "img = cv2.imread(r\"D:\\bharat\\Images\\save.jpg\")\n",
    "\n",
    "# Define the crop area\n",
    "crop = img[142:225, 205:270]\n",
    "\n",
    "# Define the target area to paste the crop\n",
    "# Ensure that the target area has the same dimensions as the crop area\n",
    "img[142:225, 275:340] = crop    #right\n",
    "img[142:225, 345:410] = crop    #right\n",
    "\n",
    "img[142:225, 190:260] = crop \n",
    "\n",
    "\n",
    "# Save and display the image\n",
    "cv2.imwrite(r\"D:\\bharat\\Images\\save.jpg\", img)\n",
    "cv2.imshow(\"wscube\", img)\n",
    "cv2.waitKey(0)\n",
    "cv2.destroyAllWindows()\n"
   ]
  },
  {
   "cell_type": "code",
   "execution_count": 42,
   "id": "dd77c3d3",
   "metadata": {},
   "outputs": [],
   "source": [
    "import cv2\n",
    "\n",
    "# Read the image\n",
    "img = cv2.imread(r\"D:\\bharat\\Images\\save.jpg\")\n",
    "\n",
    "# Define the crop area\n",
    "crop = img[142:225, 205:270]\n",
    "\n",
    "# Define the target areas to paste the crop\n",
    "# Ensure that the target areas have the same dimensions as the crop area\n",
    "img[142:225, 275:340] = crop    # right\n",
    "img[142:225, 345:410] = crop    # further right\n",
    "img[142:225, 135:200] = crop    # left\n",
    "img[142:225, 70:135] = crop    # left\n",
    "\n",
    "\n",
    "# Save and display the image\n",
    "cv2.imwrite(r\"D:\\bharat\\Images\\save.jpg\", img)\n",
    "cv2.imshow(\"wscube\", img)\n",
    "cv2.waitKey(0)\n",
    "cv2.destroyAllWindows()\n"
   ]
  },
  {
   "cell_type": "code",
   "execution_count": null,
   "id": "8a25d287",
   "metadata": {},
   "outputs": [],
   "source": []
  },
  {
   "cell_type": "markdown",
   "id": "3b1b9839",
   "metadata": {},
   "source": [
    "# Flip , Rotate & Transpose"
   ]
  },
  {
   "cell_type": "code",
   "execution_count": 57,
   "id": "1a686611",
   "metadata": {},
   "outputs": [],
   "source": [
    "import cv2"
   ]
  },
  {
   "cell_type": "code",
   "execution_count": 51,
   "id": "15e2bed6",
   "metadata": {},
   "outputs": [],
   "source": [
    "img = cv2.imread(r\"D:\\bharat\\Images\\kajal1.jpg\")\n",
    "img = cv2.resize(img,(300,200))\n",
    "\n",
    "img1 = cv2.flip(img,1) # y axis\n",
    "img2 = cv2.flip(img,0) # x axis\n",
    "img3 = cv2.flip(img,-1) # x and y axis\n",
    "\n",
    "h = np.hstack((img,img1,img2,img3))\n",
    "cv2.imshow(\"wscube\", h)\n",
    "cv2.waitKey(0)\n",
    "cv2.destroyAllWindows()"
   ]
  },
  {
   "cell_type": "code",
   "execution_count": 60,
   "id": "13152f2d",
   "metadata": {},
   "outputs": [],
   "source": [
    "img = cv2.imread(r\"D:\\bharat\\Images\\kajal1.jpg\")\n",
    "img = cv2.resize(img,(500,500))\n",
    " \n",
    "img1 = cv2.rotate(img,cv2.ROTATE_90_CLOCKWISE) \n",
    "\n",
    "h = np.hstack((img,img1))\n",
    "cv2.imshow(\"wscube\", h)\n",
    "cv2.waitKey(0)\n",
    "cv2.destroyAllWindows()"
   ]
  },
  {
   "cell_type": "code",
   "execution_count": null,
   "id": "78529b68",
   "metadata": {},
   "outputs": [],
   "source": []
  }
 ],
 "metadata": {
  "kernelspec": {
   "display_name": "Python 3 (ipykernel)",
   "language": "python",
   "name": "python3"
  },
  "language_info": {
   "codemirror_mode": {
    "name": "ipython",
    "version": 3
   },
   "file_extension": ".py",
   "mimetype": "text/x-python",
   "name": "python",
   "nbconvert_exporter": "python",
   "pygments_lexer": "ipython3",
   "version": "3.10.9"
  }
 },
 "nbformat": 4,
 "nbformat_minor": 5
}
