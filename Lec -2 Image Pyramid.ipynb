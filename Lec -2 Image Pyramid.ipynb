{
 "cells": [
  {
   "cell_type": "code",
   "execution_count": 1,
   "id": "babf8dd8",
   "metadata": {},
   "outputs": [],
   "source": [
    "import cv2"
   ]
  },
  {
   "cell_type": "code",
   "execution_count": 16,
   "id": "106f6a45",
   "metadata": {},
   "outputs": [],
   "source": [
    "img = cv2.imread(r\"D:\\bharat\\Images\\kajal.jpg\")\n",
    "img = cv2.resize(img,(600,700))\n",
    "\n",
    "\n",
    "\n",
    "cv2.imshow(\"images\",img)\n",
    "cv2.waitKey(0)\n",
    "cv2.destroyAllWindows()"
   ]
  },
  {
   "cell_type": "code",
   "execution_count": 33,
   "id": "b28aaef0",
   "metadata": {},
   "outputs": [
    {
     "name": "stdout",
     "output_type": "stream",
     "text": [
      "(622, 350, 3)\n",
      "(311, 175, 3)\n",
      "(156, 88, 3)\n",
      "(312, 176, 3)\n"
     ]
    }
   ],
   "source": [
    "img = cv2.imread(r\"D:\\bharat\\Images\\kajal.jpg\")\n",
    "# img = cv2.resize(img,(600,700))\n",
    "print(img.shape)\n",
    "\n",
    "new = cv2.pyrDown(img)\n",
    "print(new.shape)\n",
    "\n",
    "new1 = cv2.pyrDown(new)\n",
    "print(new1.shape)\n",
    "big_img = cv2.pyrUp(new1)\n",
    "print(big_img.shape)\n",
    "\n",
    "\n",
    "cv2.imshow(\"images\",img)\n",
    "cv2.imshow(\"images1\",new)\n",
    "cv2.imshow(\"images2\", new1)\n",
    "cv2.imshow(\"images3\", big_img)\n",
    "cv2.waitKey(0)\n",
    "cv2.destroyAllWindows()\n"
   ]
  },
  {
   "cell_type": "code",
   "execution_count": 24,
   "id": "28c6d771",
   "metadata": {},
   "outputs": [
    {
     "name": "stdout",
     "output_type": "stream",
     "text": [
      "(622, 350, 3)\n",
      "(1244, 700, 3)\n"
     ]
    }
   ],
   "source": [
    "img = cv2.imread(r\"D:\\bharat\\Images\\kajal.jpg\")\n",
    "# img = cv2.resize(img,(300,400))\n",
    "print(img.shape)\n",
    "\n",
    "new = cv2.pyrUp(img)\n",
    "print(new.shape)\n",
    "\n",
    "cv2.imshow(\"images\",img)\n",
    "cv2.imshow(\"images1\",new)\n",
    "cv2.waitKey(0)\n",
    "cv2.destroyAllWindows()"
   ]
  },
  {
   "cell_type": "code",
   "execution_count": null,
   "id": "1fb27490",
   "metadata": {},
   "outputs": [],
   "source": []
  },
  {
   "cell_type": "markdown",
   "id": "9234e2bc",
   "metadata": {},
   "source": [
    "# Image Translation"
   ]
  },
  {
   "cell_type": "code",
   "execution_count": 34,
   "id": "75694f0d",
   "metadata": {},
   "outputs": [],
   "source": [
    "import cv2\n",
    "import numpy as np"
   ]
  },
  {
   "cell_type": "code",
   "execution_count": 43,
   "id": "c67f243d",
   "metadata": {},
   "outputs": [],
   "source": [
    "img = cv2.imread(r\"D:\\bharat\\Images\\kajal.jpg\")\n",
    "img = cv2.resize(img,(600,700))\n",
    "\n",
    "m = np.float32([[10,10,100],[1000,1,50]])\n",
    "\n",
    "\n",
    "new = cv2.warpAffine(img,m,(450,400))\n",
    "\n",
    "cv2.imshow(\"images\",img)\n",
    "cv2.imshow(\"images1\",m)\n",
    "cv2.imshow(\"images2\",new)\n",
    "\n",
    "cv2.waitKey(0)\n",
    "cv2.destroyAllWindows()"
   ]
  },
  {
   "cell_type": "code",
   "execution_count": null,
   "id": "cef9a9f0",
   "metadata": {},
   "outputs": [],
   "source": []
  },
  {
   "cell_type": "markdown",
   "id": "4fb90f33",
   "metadata": {},
   "source": [
    "# Geometric Transformation"
   ]
  },
  {
   "cell_type": "code",
   "execution_count": null,
   "id": "d2a04fdf",
   "metadata": {},
   "outputs": [],
   "source": []
  }
 ],
 "metadata": {
  "kernelspec": {
   "display_name": "Python 3 (ipykernel)",
   "language": "python",
   "name": "python3"
  },
  "language_info": {
   "codemirror_mode": {
    "name": "ipython",
    "version": 3
   },
   "file_extension": ".py",
   "mimetype": "text/x-python",
   "name": "python",
   "nbconvert_exporter": "python",
   "pygments_lexer": "ipython3",
   "version": "3.10.9"
  }
 },
 "nbformat": 4,
 "nbformat_minor": 5
}
