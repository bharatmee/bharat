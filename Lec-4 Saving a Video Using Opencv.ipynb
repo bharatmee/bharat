{
 "cells": [
  {
   "cell_type": "code",
   "execution_count": null,
   "id": "44a6eb37",
   "metadata": {},
   "outputs": [],
   "source": [
    "import cv2"
   ]
  },
  {
   "cell_type": "code",
   "execution_count": null,
   "id": "4ba12486",
   "metadata": {},
   "outputs": [],
   "source": [
    "cap = cv2.VideoCapture(0)\n",
    "\n",
    "f = cv2.VideoWriter_fourcc(*\"XVID\")\n",
    "out = cv2.VideoWriter(r\"\\D:\\OPENCV VIDEO\\demo.mp4\",f,40.0,(640,480))\n",
    "\n",
    "while cap.isOpened():\n",
    "    r,frame = cap.read()\n",
    "    if r == True:\n",
    "        frame = cv2.resize(frame,(500,500))\n",
    "        frame = cv2.flip(frame,1)\n",
    "        out.write(frame)\n",
    "        cv2.imshow(\"videos\",frame)\n",
    "        if cv2.waitKey(1) & 0xff == ord(\"p\"):\n",
    "            break\n",
    "        \n",
    "    else:\n",
    "        break\n",
    "\n",
    "cap.release()\n",
    "out.release()\n",
    "cv2.destroyAllWindows()\n",
    "    \n",
    "    "
   ]
  },
  {
   "cell_type": "markdown",
   "id": "e692ea12",
   "metadata": {},
   "source": [
    "# Color Spaces In Opencv\n"
   ]
  },
  {
   "cell_type": "markdown",
   "id": "5b8b9c03",
   "metadata": {},
   "source": [
    "# FIlter color with opencv"
   ]
  },
  {
   "cell_type": "code",
   "execution_count": null,
   "id": "10389a85",
   "metadata": {},
   "outputs": [],
   "source": [
    "import cv2\n",
    "import numpy as np "
   ]
  },
  {
   "cell_type": "code",
   "execution_count": null,
   "id": "2031906c",
   "metadata": {},
   "outputs": [],
   "source": [
    "cap = cv2.VideoCapture(0)\n",
    "\n",
    "def wscube(x):\n",
    "    pass\n",
    "cv2.namedWindow(\"demo\")\n",
    "cv2.createTrackbar(\"1b\",\"demo\",0,255,wscube)\n",
    "cv2.createTrackbar(\"1g\",\"demo\",0,255,wscube)\n",
    "cv2.createTrackbar(\"1r\",\"demo\",0,255,wscube)\n",
    "\n",
    "cv2.createTrackbar(\"ub\",\"demo\",255,255,wscube)\n",
    "cv2.createTrackbar(\"ub\",\"demo\",255,255,wscube)\n",
    "cv2.createTrackbar(\"ub\",\"demo\",255,255,wscube)\n",
    "\n",
    "while cap.isOpened():\n",
    "    r,frame = cap.read()\n",
    "    if r == True:\n",
    "        img = cv2.resize(frame,(500,400))\n",
    "        hsv_img = cv2.cvtColor(img,cv2.COLOR_BGR2HSV)\n",
    "            \n",
    "        Lb = cv2.getTrackbarPos(\"1b\",\"demo\")\n",
    "        Lg = cv2.getTrackbarPos(\"1g\",\"demo\")\n",
    "        Lr = cv2.getTrackbarPos(\"1r\",\"demo\")\n",
    "            \n",
    "        Ub = cv2.getTrackbarPos(\"Ub\",\"demo\")\n",
    "        Ug = cv2.getTrackbarPos(\"Ug\",\"demo\")\n",
    "        Ur = cv2.getTrackbarPos(\"Ur\",\"demo\")\n",
    "            \n",
    "            \n",
    "        lo = np.array([Lb,Lg,Lr])\n",
    "        up = np.array([Ub,Ug,Ur])\n",
    "            \n",
    "        masks = cv2.inRange(hsv_img,lo,up)\n",
    "            \n",
    "        res = cv2.bitwise_and(img,img,mask = masks)\n",
    "        \n",
    "        cv2.imshow(\"res\",res)\n",
    "        cv2.imshow(\"mask\",masks)\n",
    "        cv2.imshow(\"hsv\",hsv_img)\n",
    "        cv2.imshow(\"wscube\",img)\n",
    "            \n",
    "        if cv2.waitKey(1) & 0xff == ord(\"p\"):\n",
    "            break\n",
    "                \n",
    "    else:\n",
    "        break\n",
    "cap.release()\n",
    "cv2.destroyAllWindows()\n",
    "        "
   ]
  },
  {
   "cell_type": "code",
   "execution_count": null,
   "id": "a6b9d43e",
   "metadata": {},
   "outputs": [],
   "source": [
    "import cv2\n",
    "import numpy as np\n",
    "\n",
    "# Initialize video capture\n",
    "cap = cv2.VideoCapture(0)\n",
    "\n",
    "# Function to pass to trackbar (does nothing)\n",
    "def wscube(x):\n",
    "    pass\n",
    "\n",
    "# Create a window named \"demo\"\n",
    "cv2.namedWindow(\"demo\")\n",
    "\n",
    "# Create trackbars for lower and upper HSV ranges\n",
    "cv2.createTrackbar(\"1H\", \"demo\", 0, 255, wscube)\n",
    "cv2.createTrackbar(\"1S\", \"demo\", 0, 255, wscube)\n",
    "cv2.createTrackbar(\"1V\", \"demo\", 0, 255, wscube)\n",
    "\n",
    "cv2.createTrackbar(\"uH\", \"demo\", 255, 255, wscube)\n",
    "cv2.createTrackbar(\"uS\", \"demo\", 255, 255, wscube)\n",
    "cv2.createTrackbar(\"uV\", \"demo\", 255, 255, wscube)\n",
    "\n",
    "while cap.isOpened():\n",
    "    r, frame = cap.read()\n",
    "    if r:\n",
    "        img = cv2.resize(frame, (300, 200))\n",
    "        hsv_img = cv2.cvtColor(img, cv2.COLOR_BGR2HSV)\n",
    "\n",
    "        # Get current positions of all trackbars\n",
    "        Lh = cv2.getTrackbarPos(\"1H\", \"demo\")\n",
    "        Ls = cv2.getTrackbarPos(\"1S\", \"demo\")\n",
    "        Lv = cv2.getTrackbarPos(\"1V\", \"demo\")\n",
    "\n",
    "        Uh = cv2.getTrackbarPos(\"uH\", \"demo\")\n",
    "        Us = cv2.getTrackbarPos(\"uS\", \"demo\")\n",
    "        Uv = cv2.getTrackbarPos(\"uV\", \"demo\")\n",
    "\n",
    "        # Define lower and upper HSV range for mask\n",
    "        lo = np.array([Lh, Ls, Lv])\n",
    "        up = np.array([Uh, Us, Uv])\n",
    "\n",
    "        # Create mask\n",
    "        mask = cv2.inRange(hsv_img, lo, up)\n",
    "\n",
    "        # Bitwise-AND mask and original image\n",
    "        res = cv2.bitwise_and(img, img, mask=mask)\n",
    "\n",
    "        # Display the resulting frames\n",
    "        cv2.imshow(\"res\", res)\n",
    "        cv2.imshow(\"mask\", mask)\n",
    "        cv2.imshow(\"hsv\", hsv_img)\n",
    "        cv2.imshow(\"wscube\", img)\n",
    "\n",
    "        # Break loop on 'p' key press\n",
    "        if cv2.waitKey(1) & 0xFF == ord('p'):\n",
    "            break\n",
    "    else:\n",
    "        break\n",
    "\n",
    "# Release the capture and destroy all windows\n",
    "cap.release()\n",
    "cv2.destroyAllWindows()\n"
   ]
  },
  {
   "cell_type": "markdown",
   "id": "9d696e3b",
   "metadata": {},
   "source": [
    "# Perspective Tranformation"
   ]
  },
  {
   "cell_type": "markdown",
   "id": "1921a1c1",
   "metadata": {},
   "source": [
    "# Create camscanner "
   ]
  },
  {
   "cell_type": "code",
   "execution_count": null,
   "id": "0c642115",
   "metadata": {},
   "outputs": [],
   "source": [
    "import cv2\n",
    "import numpy as np"
   ]
  },
  {
   "cell_type": "code",
   "execution_count": null,
   "id": "7cc0dd75",
   "metadata": {},
   "outputs": [],
   "source": [
    "img = cv2.imread(r\"modi_image.jpg\")\n",
    "\n",
    "cv2.circle(img,(18,30),4,(0,0,255),-1)\n",
    "cv2.circle(img,(1107,78),4,(0,0,255),-1)\n",
    "cv2.circle(img,(72,595),4,(0,0,255),-1)\n",
    "cv2.circle(img,(1026,567),4,(0,0,255),-1)\n",
    "\n",
    "print(img.shape)\n",
    "\n",
    "\n",
    "\n",
    "cv2.imshow(\"images\",img)\n",
    "cv2.waitKey(0)\n",
    "cv2.destroyAllWindows()"
   ]
  },
  {
   "cell_type": "code",
   "execution_count": null,
   "id": "63965ce8",
   "metadata": {},
   "outputs": [],
   "source": [
    "w,h = (600,1127)\n",
    "\n",
    "src1 = np.float32([[18, 30], [1107, 78], [72, 595], [1026, 567]])\n",
    "dst1 = np.float32([[0, 0], [w, 0], [0, h], [w, h]])\n",
    "m = cv2.getPerspectiveTransform(src1, dst1)\n",
    "new_img = cv2.warpPerspective(img, m, (w, h))\n",
    "\n",
    "cv2.imshow(\"images\",new_img)\n",
    "cv2.imshow(\"images1\",img)\n",
    "cv2.waitKey(0)\n",
    "cv2.destroyAllWindows()"
   ]
  },
  {
   "cell_type": "markdown",
   "id": "aeba00d3",
   "metadata": {},
   "source": [
    "# Simple Thresholding"
   ]
  },
  {
   "cell_type": "code",
   "execution_count": null,
   "id": "296edba0",
   "metadata": {},
   "outputs": [],
   "source": [
    "import cv2"
   ]
  },
  {
   "cell_type": "code",
   "execution_count": null,
   "id": "1efb1914",
   "metadata": {},
   "outputs": [],
   "source": [
    "img = cv2.imread(r\"D:\\bharat\\Images\\shraddha.jpg\")\n",
    "img = cv2.resize(img,(500,400))\n",
    "img = cv2.cvtColor(img,cv2.COLOR_BGR2GRAY)\n",
    "\n",
    "_,th = cv2.threshold(img,200,255,cv2.THRESH_BINARY)\n",
    "# _,th1 = cv2.threshold(img,200,255,cv2.THRESH_BINARY_INV)\n",
    "_,th1 = cv2.threshold(img,200,255,cv2.THRESH_TRIANGLE)\n",
    "\n",
    "\n",
    "\n",
    "\n",
    "\n",
    "cv2.imshow(\"images\", img)\n",
    "cv2.imshow(\"new_image\",th)\n",
    "cv2.imshow(\"new_image1\",th1)\n",
    "cv2.waitKey(0)\n",
    "cv2.destroyAllWindows()\n",
    "\n"
   ]
  },
  {
   "cell_type": "markdown",
   "id": "9428f3fe",
   "metadata": {},
   "source": [
    "# Otus Thresholding"
   ]
  },
  {
   "cell_type": "code",
   "execution_count": null,
   "id": "2746bc43",
   "metadata": {},
   "outputs": [],
   "source": [
    "import cv2\n",
    "import matplotlib.pyplot as plt"
   ]
  },
  {
   "cell_type": "code",
   "execution_count": null,
   "id": "a3fcc4f8",
   "metadata": {},
   "outputs": [],
   "source": [
    "img = cv2.imread(r\"D:\\bharat\\Images\\pexels-kelly.jpg\")\n",
    "img =  cv2.resize(img,(500,500))\n",
    "img = cv2.cvtColor(img,cv2.COLOR_BGR2GRAY)\n",
    "\n",
    "# hist = cv2.calcHist([img],[0],None,[255],[0,255])\n",
    "# plt.plot(hist)\n",
    "# plt.show()\n",
    "_,th = cv2.threshold(img,200,255,cv2.THRESH_BINARY+ cv2.THRESH_OTSU)\n",
    "cv2.imshow(\"threshold\",img)\n",
    "cv2.imshow(\"threshold1\",th)\n",
    "cv2.waitKey(0)\n",
    "cv2.destroyAllWindows()"
   ]
  },
  {
   "cell_type": "markdown",
   "id": "315653e3",
   "metadata": {},
   "source": [
    "# Histogram Plot"
   ]
  },
  {
   "cell_type": "code",
   "execution_count": 4,
   "id": "cfbe16ee",
   "metadata": {},
   "outputs": [],
   "source": [
    "import cv2\n",
    "import matplotlib.pyplot as plt\n",
    "import numpy as np"
   ]
  },
  {
   "cell_type": "code",
   "execution_count": 5,
   "id": "9c5be120",
   "metadata": {},
   "outputs": [],
   "source": [
    "blank_w = np.ones((500,500,3),np.uint8 )*255\n",
    "blank_b = np.zeros((500,500,3),np.uint8)*255"
   ]
  },
  {
   "cell_type": "code",
   "execution_count": 7,
   "id": "a8a2617b",
   "metadata": {},
   "outputs": [
    {
     "data": {
      "image/png": "[encoded data removed]",
      "text/plain": [
       "<Figure size 640x480 with 1 Axes>"
      ]
     },
     "metadata": {},
     "output_type": "display_data"
    }
   ],
   "source": [
    "hist = cv2.calcHist([blank_w],[0],None,[256],[0,256])\n",
    "hist1 = cv2.calcHist([blank_b],[0],None,[256],[0,256])\n",
    "plt.plot(hist)\n",
    "plt.plot(hist1)\n",
    "plt.show()\n",
    "\n",
    "\n",
    "\n",
    "cv2.imshow(\"white\",blank_w)\n",
    "cv2.imshow(\"black\",blank_b)\n",
    "cv2.waitKey(0)\n",
    "cv2.destroyAllWindows()"
   ]
  },
  {
   "cell_type": "code",
   "execution_count": 14,
   "id": "f6db6ab0",
   "metadata": {},
   "outputs": [
    {
     "data": {
      "image/png": "[encoded data removed]",
      "text/plain": [
       "<Figure size 640x480 with 1 Axes>"
      ]
     },
     "metadata": {},
     "output_type": "display_data"
    }
   ],
   "source": [
    "img = cv2.imread(r\"D:\\bharat\\Images\\prabhas-pooja.jpg\")\n",
    "img = cv2.resize(img,(500,500))\n",
    "img1 = cv2.imread(r\"D:\\bharat\\Images\\hollywood.jpeg\")\n",
    "img1 = cv2.resize(img1,(500,500))\n",
    "# print(img)\n",
    "hist = cv2.calcHist([img],[0],None,[256],[0,256])\n",
    "hist1 = cv2.calcHist([img1],[0],None,[256],[0,256])\n",
    "plt.plot(hist)\n",
    "plt.plot(hist1)\n",
    "plt.show()\n",
    "\n",
    "\n",
    "\n",
    "cv2.imshow(\"white\",img)\n",
    "cv2.imshow(\"black\",img1)\n",
    "cv2.waitKey(0)\n",
    "cv2.destroyAllWindows()"
   ]
  },
  {
   "cell_type": "code",
   "execution_count": 15,
   "id": "ee539542",
   "metadata": {},
   "outputs": [],
   "source": [
    "import matplotlib.pyplot as plt\n",
    "import cv2   "
   ]
  },
  {
   "cell_type": "code",
   "execution_count": 20,
   "id": "fc58ccff",
   "metadata": {},
   "outputs": [
    {
     "data": {
      "image/png": "[encoded data removed]",
      "text/plain": [
       "<Figure size 640x480 with 1 Axes>"
      ]
     },
     "metadata": {},
     "output_type": "display_data"
    }
   ],
   "source": [
    "img = cv2.imread(r\"D:\\bharat\\Images\\ground.jpg\")\n",
    "img = cv2.resize(img,(300,400))\n",
    "gry = cv2.cvtColor(img,cv2.COLOR_BGR2GRAY)\n",
    "\n",
    "hist = cv2.calcHist([img1],[0],None,[256],[0,256])\n",
    "eq = cv2.equalizeHist(gry)\n",
    "hist1 = cv2.calcHist([eq],[0],None,[256],[0,256])\n",
    "plt.plot(hist)\n",
    "plt.plot(hist1)\n",
    "plt.show()\n",
    "\n",
    "cv2.imshow(\"window\",img)\n",
    "cv2.imshow(\"window1\",gry)\n",
    "cv2.imshow(\"window2\",eq)\n",
    "cv2.waitKey(0)\n",
    "cv2.destroyAllWindows()"
   ]
  },
  {
   "cell_type": "code",
   "execution_count": 22,
   "id": "1f4d457c",
   "metadata": {},
   "outputs": [
    {
     "data": {
      "image/png": "[encoded data removed]",
      "text/plain": [
       "<Figure size 640x480 with 1 Axes>"
      ]
     },
     "metadata": {},
     "output_type": "display_data"
    }
   ],
   "source": [
    "img = cv2.imread(r\"D:\\bharat\\Images\\ground.jpg\")\n",
    "img = cv2.resize(img,(300,400))\n",
    "\n",
    "gry = cv2.cvtColor(img,cv2.COLOR_BGR2GRAY)\n",
    "\n",
    "hist = cv2.calcHist([img1],[0],None,[256],[0,256])\n",
    "\n",
    "eq = cv2.equalizeHist(gry)\n",
    "hist1 = cv2.calcHist([eq],[0],None,[256],[0,256])\n",
    "\n",
    "c1 = cv2.createCLAHE(clipLimit = 1,tileGridSize = (8,8))\n",
    "f = c1.apply(gry)\n",
    "\n",
    "plt.plot(hist)\n",
    "plt.plot(hist1, c = \"red\")\n",
    "plt.plot(f,c = \"green\")\n",
    "plt.show()\n",
    "\n",
    "cv2.imshow(\"window\",img)\n",
    "# cv2.imshow(\"window1\",gry)\n",
    "cv2.imshow(\"window2\",eq)\n",
    "cv2.imshow(\"window3\",f)\n",
    "cv2.waitKey(0)\n",
    "cv2.destroyAllWindows()"
   ]
  },
  {
   "cell_type": "code",
   "execution_count": null,
   "id": "bfe984ca",
   "metadata": {},
   "outputs": [],
   "source": []
  },
  {
   "cell_type": "code",
   "execution_count": null,
   "id": "e23a7961",
   "metadata": {},
   "outputs": [],
   "source": []
  },
  {
   "cell_type": "code",
   "execution_count": 24,
   "id": "b03623e5",
   "metadata": {},
   "outputs": [],
   "source": [
    "import matplotlib.pyplot as plt\n",
    "import cv2   "
   ]
  },
  {
   "cell_type": "code",
   "execution_count": 30,
   "id": "a2298ed4",
   "metadata": {},
   "outputs": [],
   "source": [
    "def python(event,x,y,f,p):\n",
    "    if event == cv2.EVENT_LBUTTONDOWN:\n",
    "        cv2.circle(img,(x,y),5,(0,0,255),4)\n",
    "    elif event == cv2.EVENT_RBUTTONDOWN:\n",
    "        cv2.rectangle(img,(x,y),(x+20,y+20),(255,0,0),4)\n",
    "        \n",
    "cv2.namedWindow(\"window\")\n",
    "img = np.ones((500,500,3),np.uint8 )*255\n",
    "cv2.setMouseCallback(\"window\",python)\n",
    "while True:\n",
    "    cv2.imshow(\"window\",img)\n",
    "    if cv2.waitKey(0) & 0xff == ord(\"p\"):\n",
    "        break\n",
    "cv2.destroyAllWindows()"
   ]
  },
  {
   "cell_type": "code",
   "execution_count": 31,
   "id": "a6d75cf9",
   "metadata": {},
   "outputs": [],
   "source": [
    "import cv2\n",
    "import numpy as np\n",
    "\n",
    "# Define the callback function for mouse events\n",
    "def draw_shapes(event, x, y, flags, param):\n",
    "    if event == cv2.EVENT_LBUTTONDOWN:\n",
    "        cv2.circle(img, (x, y), 5, (0, 0, 255), 4)\n",
    "    elif event == cv2.EVENT_RBUTTONDOWN:\n",
    "        cv2.rectangle(img, (x, y), (x + 20, y + 20), (255, 0, 0), 4)\n",
    "\n",
    "# Create a window and an image\n",
    "cv2.namedWindow(\"window\")\n",
    "img = np.ones((500, 500, 3), np.uint8) * 255\n",
    "\n",
    "# Set the mouse callback function for the window\n",
    "cv2.setMouseCallback(\"window\", draw_shapes)\n",
    "\n",
    "# Main loop\n",
    "while True:\n",
    "    cv2.imshow(\"window\", img)\n",
    "    if cv2.waitKey(1) & 0xFF == ord('p'):\n",
    "        break\n",
    "\n",
    "# Destroy all windows\n",
    "cv2.destroyAllWindows()\n"
   ]
  },
  {
   "cell_type": "markdown",
   "id": "6459933f",
   "metadata": {},
   "source": [
    "# Image Contours"
   ]
  },
  {
   "cell_type": "code",
   "execution_count": 32,
   "id": "26463dd5",
   "metadata": {},
   "outputs": [],
   "source": [
    "import cv2"
   ]
  },
  {
   "cell_type": "code",
   "execution_count": 74,
   "id": "6949fa97",
   "metadata": {},
   "outputs": [],
   "source": [
    "img = cv2.imread(r\"D:\\bharat\\Images\\chrome_logo.webp\")\n",
    "img = cv2.resize(img,(500,500))\n",
    "\n",
    "\n",
    "img1 = cv2.cvtColor(img,cv2.COLOR_BGR2GRAY)\n",
    "\n",
    "r,th = cv2.threshold(img1, 245, 255, cv2.THRESH_BINARY)\n",
    "\n",
    "c,h  = cv2.findContours(th,cv2.RETR_TREE,cv2.CHAIN_APPROX_SIMPLE)\n",
    "\n",
    "new_img = cv2.drawContours(img,c, -1,(255,0,0),2)\n",
    " \n",
    "\n",
    "# cv2.imshow(\"window\",img)\n",
    "cv2.imshow(\"window1\",img1)\n",
    "cv2.imshow(\"window2\",new_img)\n",
    "cv2.waitKey(0)\n",
    "cv2.destroyAllWindows()"
   ]
  },
  {
   "cell_type": "markdown",
   "id": "54382f2c",
   "metadata": {},
   "source": [
    "# Contour Moments  and Convex Hull "
   ]
  },
  {
   "cell_type": "code",
   "execution_count": 67,
   "id": "be01ddec",
   "metadata": {},
   "outputs": [],
   "source": [
    "import cv2"
   ]
  },
  {
   "cell_type": "code",
   "execution_count": 91,
   "id": "95402915",
   "metadata": {},
   "outputs": [],
   "source": [
    "img = cv2.imread(r\"D:\\bharat\\Images\\xpolygons.jpg\")\n",
    "img = cv2.resize(img,(500,500))\n",
    "\n",
    "img1 = cv2.cvtColor(img,cv2.COLOR_BGR2GRAY)\n",
    "r,th = cv2.threshold(img1,225,255,cv2.THRESH_BINARY)\n",
    "\n",
    "cnt,h = cv2.findContours(th,cv2.RETR_TREE,cv2.CHAIN_APPROX_SIMPLE)\n",
    "new_img = cv2.drawContours(img.copy(),cnt,-1,(0,0,255),4)\n",
    "\n",
    "# to find the area (center, center of mass , mass etc )\n",
    "for c in cnt:\n",
    "    m = cv2.moments(c)\n",
    "    if m[\"m00\"] != 0: \n",
    "        x = int(m[\"m10\"]/m[\"m00\"])\n",
    "        y = int(m[\"m01\"]/m[\"m00\"])\n",
    "#         cv2.drawContours(img,cnt,-1,(0,0,255),4)\n",
    "        cv2.circle(img,(x,y),2,(255,0,0),-1)\n",
    "\n",
    "    \n",
    "\n",
    "\n",
    "# cv2.imshow(\"window\",img1)\n",
    "# cv2.imshow(\"window1\",th)\n",
    "cv2.imshow(\"window2\",new_img)\n",
    "cv2.waitKey(0)\n",
    "cv2.destroyAllWindows()\n"
   ]
  },
  {
   "cell_type": "code",
   "execution_count": 93,
   "id": "3458e13c",
   "metadata": {},
   "outputs": [
    {
     "name": "stdout",
     "output_type": "stream",
     "text": [
      "[248003.0, 13198.0, 13066.0, 12912.5, 13142.0, 12326.0, 12800.5, 11944.0, 12610.5, 8998.0, 6058.5, 11409.5, 10451.0]\n"
     ]
    }
   ],
   "source": [
    "import cv2\n",
    "import numpy as np\n",
    "\n",
    "# Read and resize the image\n",
    "img = cv2.imread(r\"D:\\bharat\\Images\\xpolygons.jpg\")\n",
    "img = cv2.resize(img, (500, 500))\n",
    "\n",
    "# Convert to grayscale\n",
    "img1 = cv2.cvtColor(img, cv2.COLOR_BGR2GRAY)\n",
    "\n",
    "# Apply binary threshold\n",
    "_, th = cv2.threshold(img1, 225, 255, cv2.THRESH_BINARY)\n",
    "\n",
    "# Find contours\n",
    "contours, _ = cv2.findContours(th, cv2.RETR_TREE, cv2.CHAIN_APPROX_SIMPLE)\n",
    "\n",
    "# Draw all contours\n",
    "new_img = cv2.drawContours(img.copy(), contours, -1, (0, 0, 255), 4)\n",
    "\n",
    "# Find and draw centroids of each contour\n",
    "ar =[]\n",
    "for c in contours:\n",
    "    m = cv2.moments(c)\n",
    "    if m[\"m00\"] != 0:  # To avoid division by zero\n",
    "        x = int(m[\"m10\"] / m[\"m00\"])\n",
    "        y = int(m[\"m01\"] / m[\"m00\"])\n",
    "        cv2.circle(new_img, (x, y), 5, (255, 0, 0), -1)\n",
    "        a = cv2.contourArea(c)\n",
    "        ar.append(a)\n",
    "        \n",
    "print(ar)\n",
    "# Display the result\n",
    "cv2.imshow(\"Original Image\", img)\n",
    "cv2.imshow(\"Threshold Image\", th)\n",
    "cv2.imshow(\"Contours with Centroids\", new_img)\n",
    "cv2.waitKey(0)\n",
    "cv2.destroyAllWindows()\n"
   ]
  },
  {
   "cell_type": "raw",
   "id": "d59a5327",
   "metadata": {},
   "source": [
    "convex hull ye object ke uper ek boundry conditions bnata he jiske under contour aa jata he\n"
   ]
  },
  {
   "cell_type": "code",
   "execution_count": 96,
   "id": "adbb93cf",
   "metadata": {},
   "outputs": [
    {
     "name": "stdout",
     "output_type": "stream",
     "text": [
      "[248003.0, 13198.0, 13066.0, 12912.5, 13142.0, 12326.0, 12800.5, 11944.0, 12610.5, 8998.0, 6058.5, 11409.5, 10451.0]\n"
     ]
    }
   ],
   "source": [
    "import cv2\n",
    "import numpy as np\n",
    "\n",
    "# Read and resize the image\n",
    "img = cv2.imread(r\"D:\\bharat\\Images\\xpolygons.jpg\")\n",
    "img = cv2.resize(img, (500, 500))\n",
    "\n",
    "# Convert to grayscale\n",
    "img1 = cv2.cvtColor(img, cv2.COLOR_BGR2GRAY)\n",
    "\n",
    "# Apply binary threshold\n",
    "_, th = cv2.threshold(img1, 225, 255, cv2.THRESH_BINARY)\n",
    "\n",
    "# Find contours\n",
    "contours, _ = cv2.findContours(th, cv2.RETR_TREE, cv2.CHAIN_APPROX_SIMPLE)\n",
    "\n",
    "# Draw all contours\n",
    "new_img = cv2.drawContours(img.copy(), contours, -1, (0, 0, 255), 4)\n",
    "\n",
    "# Find and draw centroids of each contour\n",
    "ar =[]\n",
    "for c in contours:\n",
    "    m = cv2.moments(c)\n",
    "    if m[\"m00\"] != 0:  # To avoid division by zero\n",
    "        x = int(m[\"m10\"] / m[\"m00\"])\n",
    "        y = int(m[\"m01\"] / m[\"m00\"])\n",
    "        cv2.circle(new_img, (x, y), 5, (255, 0, 0), -1)\n",
    "        a = cv2.contourArea(c)\n",
    "        ar.append(a)\n",
    "        ep = 0.1*cv2.arcLength(c,True)           # jo ki hmare pass area aya he uski arc ki length ko count krega fir usme se maximum area nikalega\n",
    "        d = cv2.approxPolyDP(c,ep,True)\n",
    "        h = cv2.convexHull(d)\n",
    "        x,y,w,h = cv2.boundingRect(h)\n",
    "        cv2.rectangle(new_img,(x,y),(x+w,y+h),(0,255,0),5)\n",
    "        \n",
    "        \n",
    "        \n",
    "        \n",
    "print(ar)\n",
    "# Display the result\n",
    "cv2.imshow(\"Original Image\", img)\n",
    "cv2.imshow(\"Threshold Image\", th)\n",
    "cv2.imshow(\"Contours with Centroids\", new_img)\n",
    "cv2.waitKey(0)\n",
    "cv2.destroyAllWindows()"
   ]
  },
  {
   "cell_type": "code",
   "execution_count": null,
   "id": "80c3574d",
   "metadata": {},
   "outputs": [],
   "source": []
  },
  {
   "cell_type": "markdown",
   "id": "a5028078",
   "metadata": {},
   "source": [
    "# Object Detection  using Contour "
   ]
  },
  {
   "cell_type": "code",
   "execution_count": 1,
   "id": "6cfb458d",
   "metadata": {},
   "outputs": [],
   "source": [
    "import cv2\n",
    "import numpy as np"
   ]
  },
  {
   "cell_type": "code",
   "execution_count": 2,
   "id": "5bc836c3",
   "metadata": {},
   "outputs": [],
   "source": []
  },
  {
   "cell_type": "code",
   "execution_count": 3,
   "id": "d15b7625",
   "metadata": {
    "scrolled": true
   },
   "outputs": [
    {
     "ename": "error",
     "evalue": "OpenCV(4.6.0) D:\\a\\opencv-python\\opencv-python\\opencv\\modules\\highgui\\src\\window.cpp:862: error: (-215:Assertion failed) trackbar in function 'cv::getTrackbarPos'\n",
     "output_type": "error",
     "traceback": [
      "\u001b[1;31m---------------------------------------------------------------------------\u001b[0m",
      "\u001b[1;31merror\u001b[0m                                     Traceback (most recent call last)",
      "Cell \u001b[1;32mIn[3], line 24\u001b[0m\n\u001b[0;32m     20\u001b[0m LG \u001b[38;5;241m=\u001b[39m cv2\u001b[38;5;241m.\u001b[39mgetTrackbarPos(\u001b[38;5;124m\"\u001b[39m\u001b[38;5;124mlg\u001b[39m\u001b[38;5;124m\"\u001b[39m,\u001b[38;5;124m\"\u001b[39m\u001b[38;5;124mwscube\u001b[39m\u001b[38;5;124m\"\u001b[39m)\n\u001b[0;32m     21\u001b[0m LR \u001b[38;5;241m=\u001b[39m cv2\u001b[38;5;241m.\u001b[39mgetTrackbarPos(\u001b[38;5;124m\"\u001b[39m\u001b[38;5;124mlr\u001b[39m\u001b[38;5;124m\"\u001b[39m,\u001b[38;5;124m\"\u001b[39m\u001b[38;5;124mwscube\u001b[39m\u001b[38;5;124m\"\u001b[39m)\n\u001b[1;32m---> 24\u001b[0m HB \u001b[38;5;241m=\u001b[39m \u001b[43mcv2\u001b[49m\u001b[38;5;241;43m.\u001b[39;49m\u001b[43mgetTrackbarPos\u001b[49m\u001b[43m(\u001b[49m\u001b[38;5;124;43m\"\u001b[39;49m\u001b[38;5;124;43mhb\u001b[39;49m\u001b[38;5;124;43m\"\u001b[39;49m\u001b[43m,\u001b[49m\u001b[38;5;124;43m\"\u001b[39;49m\u001b[38;5;124;43mwscube\u001b[39;49m\u001b[38;5;124;43m\"\u001b[39;49m\u001b[43m)\u001b[49m\n\u001b[0;32m     25\u001b[0m HG \u001b[38;5;241m=\u001b[39m cv2\u001b[38;5;241m.\u001b[39mgetTrackbarPos(\u001b[38;5;124m\"\u001b[39m\u001b[38;5;124mhg\u001b[39m\u001b[38;5;124m\"\u001b[39m,\u001b[38;5;124m\"\u001b[39m\u001b[38;5;124mwscube\u001b[39m\u001b[38;5;124m\"\u001b[39m)\n\u001b[0;32m     26\u001b[0m HR \u001b[38;5;241m=\u001b[39m cv2\u001b[38;5;241m.\u001b[39mgetTrackbarPos(\u001b[38;5;124m\"\u001b[39m\u001b[38;5;124mhr\u001b[39m\u001b[38;5;124m\"\u001b[39m,\u001b[38;5;124m\"\u001b[39m\u001b[38;5;124mwscube\u001b[39m\u001b[38;5;124m\"\u001b[39m)\n",
      "\u001b[1;31merror\u001b[0m: OpenCV(4.6.0) D:\\a\\opencv-python\\opencv-python\\opencv\\modules\\highgui\\src\\window.cpp:862: error: (-215:Assertion failed) trackbar in function 'cv::getTrackbarPos'\n"
     ]
    }
   ],
   "source": [
    "def nothing(x):\n",
    "    pass\n",
    "\n",
    "cv2.namedWindow(\"wscube\")\n",
    "\n",
    "cv2.createTrackbar(\"th\",\"wscube\",0,255,nothing)\n",
    "\n",
    "cv2.createTrackbar(\"lb\",\"wscube\",0,255,nothing)\n",
    "cv2.createTrackbar(\"lg\",\"wscube\",0,255,nothing)\n",
    "cv2.createTrackbar(\"lr\",\"wscube\",0,255,nothing)\n",
    "\n",
    "cv2.createTrackbar(\"ub\",\"wscube\",255,255,nothing)\n",
    "cv2.createTrackbar(\"ug\",\"wscube\",255,255,nothing)\n",
    "cv2.createTrackbar(\"ur\",\"wscube\",255,255,nothing)\n",
    "\n",
    "cap = cv2.VideoCapture(0)\n",
    "while cap.isOpened():\n",
    "    r, frame = cap.read()\n",
    "    if r == True:\n",
    "        thr = cv2.getTrackbarPos(\"th\",\"wscube\")\n",
    "        \n",
    "        LB = cv2.getTrackbarPos(\"lb\",\"wscube\")\n",
    "        LG = cv2.getTrackbarPos(\"lg\",\"wscube\")\n",
    "        LR = cv2.getTrackbarPos(\"lr\",\"wscube\")\n",
    "        \n",
    "        \n",
    "        HB = cv2.getTrackbarPos(\"hb\",\"wscube\")\n",
    "        HG = cv2.getTrackbarPos(\"hg\",\"wscube\")\n",
    "        HR = cv2.getTrackbarPos(\"hr\",\"wscube\")\n",
    "        \n",
    "        lower = np.array([LB,LG,LR])\n",
    "        upper = np.array([HB,HG,HR])\n",
    "        \n",
    "        \n",
    "        \n",
    "        \n",
    "        frame = cv2.flip(frame, 1)\n",
    "        frame = cv2.resize(frame,(300,300))\n",
    "        hsv  = cv2.cvtColor(frame,cv2.COLOR_BGR2HSV)\n",
    "        # Design a mask\n",
    "        m = cv2.inRange(hsv,lower,upper)\n",
    "        res = cv2.bitwise_and(frame,frame,mask = m)\n",
    "        \n",
    "        \n",
    "        cv2.imshow(\"res\",res)\n",
    "        cv2.imshow(\"mask\",m)     \n",
    "        cv2.imshow(\"ws\",frame)\n",
    "        if cv2.waitKey(25) & 0xff  == ord(\"q\"):\n",
    "            break\n",
    "    else:\n",
    "        break\n",
    "cap.release()\n",
    "cv2.destroyAllWindows()"
   ]
  },
  {
   "cell_type": "code",
   "execution_count": 5,
   "id": "bc6c2865",
   "metadata": {},
   "outputs": [],
   "source": [
    "import cv2\n",
    "import numpy as np"
   ]
  },
  {
   "cell_type": "code",
   "execution_count": 7,
   "id": "d3a3adea",
   "metadata": {},
   "outputs": [
    {
     "ename": "NameError",
     "evalue": "name 'thr' is not defined",
     "output_type": "error",
     "traceback": [
      "\u001b[1;31m---------------------------------------------------------------------------\u001b[0m",
      "\u001b[1;31mNameError\u001b[0m                                 Traceback (most recent call last)",
      "Cell \u001b[1;32mIn[7], line 45\u001b[0m\n\u001b[0;32m     42\u001b[0m res \u001b[38;5;241m=\u001b[39m cv2\u001b[38;5;241m.\u001b[39mbitwise_and(frame, frame, mask\u001b[38;5;241m=\u001b[39mmask)\n\u001b[0;32m     43\u001b[0m fr \u001b[38;5;241m=\u001b[39m cv2\u001b[38;5;241m.\u001b[39mbitwise_not(res)\n\u001b[1;32m---> 45\u001b[0m thi \u001b[38;5;241m=\u001b[39m cv2\u001b[38;5;241m.\u001b[39mthreshold(mask,\u001b[43mthr\u001b[49m,\u001b[38;5;241m255\u001b[39m,cv2\u001b[38;5;241m.\u001b[39mTHRESH_BINARY)\n\u001b[0;32m     47\u001b[0m cnt,hr \u001b[38;5;241m=\u001b[39m cv2\u001b[38;5;241m.\u001b[39mfindContours(thi,cv2\u001b[38;5;241m.\u001b[39mRETR_TREE,cv2\u001b[38;5;241m.\u001b[39mCHAIN_APPROX_SIMPLE)\n\u001b[0;32m     49\u001b[0m cv2\u001b[38;5;241m.\u001b[39mdrawContours(frame,cnt,\u001b[38;5;241m-\u001b[39m\u001b[38;5;241m1\u001b[39m,(\u001b[38;5;241m255\u001b[39m,\u001b[38;5;241m0\u001b[39m,\u001b[38;5;241m0\u001b[39m),\u001b[38;5;241m2\u001b[39m)\n",
      "\u001b[1;31mNameError\u001b[0m: name 'thr' is not defined"
     ]
    }
   ],
   "source": [
    "\n",
    "\n",
    "def nothing(x):\n",
    "    pass\n",
    "\n",
    "# Create a window\n",
    "cv2.namedWindow(\"wscube\")\n",
    "\n",
    "# Create trackbars for threshold and HSV color space limits\n",
    "cv2.createTrackbar(\"Threshold\", \"wscube\", 0, 255, nothing)\n",
    "\n",
    "cv2.createTrackbar(\"Lower B\", \"wscube\", 0, 255, nothing)\n",
    "cv2.createTrackbar(\"Lower G\", \"wscube\", 0, 255, nothing)\n",
    "cv2.createTrackbar(\"Lower R\", \"wscube\", 0, 255, nothing)\n",
    "\n",
    "cv2.createTrackbar(\"Upper B\", \"wscube\", 255, 255, nothing)\n",
    "cv2.createTrackbar(\"Upper G\", \"wscube\", 255, 255, nothing)\n",
    "cv2.createTrackbar(\"Upper R\", \"wscube\", 255, 255, nothing)\n",
    "\n",
    "cap = cv2.VideoCapture(0)\n",
    "while cap.isOpened():\n",
    "    ret, frame = cap.read()\n",
    "    if ret:\n",
    "        # Get the current positions of trackbars\n",
    "        threshold_value = cv2.getTrackbarPos(\"Threshold\", \"wscube\")\n",
    "        \n",
    "        LB = cv2.getTrackbarPos(\"Lower B\", \"wscube\")\n",
    "        LG = cv2.getTrackbarPos(\"Lower G\", \"wscube\")\n",
    "        LR = cv2.getTrackbarPos(\"Lower R\", \"wscube\")\n",
    "        \n",
    "        UB = cv2.getTrackbarPos(\"Upper B\", \"wscube\")\n",
    "        UG = cv2.getTrackbarPos(\"Upper G\", \"wscube\")\n",
    "        UR = cv2.getTrackbarPos(\"Upper R\", \"wscube\")\n",
    "        \n",
    "        lower = np.array([LB, LG, LR])\n",
    "        upper = np.array([UB, UG, UR])\n",
    "        \n",
    "        frame = cv2.flip(frame, 1)\n",
    "        frame = cv2.resize(frame, (300, 300))\n",
    "        hsv = cv2.cvtColor(frame, cv2.COLOR_BGR2HSV)\n",
    "        \n",
    "        # Create a mask based on the HSV color range\n",
    "        mask = cv2.inRange(hsv, lower, upper)\n",
    "        res = cv2.bitwise_and(frame, frame, mask=mask)\n",
    "        fr = cv2.bitwise_not(res)\n",
    "        \n",
    "        thi = cv2.threshold(mask,thr,255,cv2.THRESH_BINARY)\n",
    "        \n",
    "        cnt,hr = cv2.findContours(thi,cv2.RETR_TREE,cv2.CHAIN_APPROX_SIMPLE)\n",
    "        \n",
    "        cv2.drawContours(frame,cnt,-1,(255,0,0),2)\n",
    "        \n",
    "        cv2.imshow(\"thr\",thi)\n",
    "        cv2.imshow(\"res\", res)\n",
    "        cv2.imshow(\"mask\", mask)\n",
    "        cv2.imshow(\"ws\", frame)\n",
    "        \n",
    "        if cv2.waitKey(25) & 0xFF == ord(\"q\"):\n",
    "            break\n",
    "    else:\n",
    "        break\n",
    "\n",
    "cap.release()\n",
    "cv2.destroyAllWindows()\n"
   ]
  },
  {
   "cell_type": "code",
   "execution_count": 1,
   "id": "746fa737",
   "metadata": {},
   "outputs": [],
   "source": [
    "import cv2\n",
    "import numpy as np\n",
    "\n",
    "def nothing(x):\n",
    "    pass\n",
    "\n",
    "# Create a window\n",
    "cv2.namedWindow(\"wscube\")\n",
    "\n",
    "# Create trackbars for threshold and HSV color space limits\n",
    "cv2.createTrackbar(\"Threshold\", \"wscube\", 0, 255, nothing)\n",
    "\n",
    "cv2.createTrackbar(\"Lower B\", \"wscube\", 0, 255, nothing)\n",
    "cv2.createTrackbar(\"Lower G\", \"wscube\", 0, 255, nothing)\n",
    "cv2.createTrackbar(\"Lower R\", \"wscube\", 0, 255, nothing)\n",
    "\n",
    "cv2.createTrackbar(\"Upper B\", \"wscube\", 255, 255, nothing)\n",
    "cv2.createTrackbar(\"Upper G\", \"wscube\", 255, 255, nothing)\n",
    "cv2.createTrackbar(\"Upper R\", \"wscube\", 255, 255, nothing)\n",
    "\n",
    "cap = cv2.VideoCapture(0)\n",
    "while cap.isOpened():\n",
    "    ret, frame = cap.read()\n",
    "    if ret:\n",
    "        # Get the current positions of trackbars\n",
    "        threshold_value = cv2.getTrackbarPos(\"Threshold\", \"wscube\")\n",
    "        \n",
    "        LB = cv2.getTrackbarPos(\"Lower B\", \"wscube\")\n",
    "        LG = cv2.getTrackbarPos(\"Lower G\", \"wscube\")\n",
    "        LR = cv2.getTrackbarPos(\"Lower R\", \"wscube\")\n",
    "        \n",
    "        UB = cv2.getTrackbarPos(\"Upper B\", \"wscube\")\n",
    "        UG = cv2.getTrackbarPos(\"Upper G\", \"wscube\")\n",
    "        UR = cv2.getTrackbarPos(\"Upper R\", \"wscube\")\n",
    "        \n",
    "        lower = np.array([LB, LG, LR])\n",
    "        upper = np.array([UB, UG, UR])\n",
    "        \n",
    "        frame = cv2.flip(frame, 1)\n",
    "        frame = cv2.resize(frame, (300, 300))\n",
    "        hsv = cv2.cvtColor(frame, cv2.COLOR_BGR2HSV)\n",
    "        \n",
    "        # Create a mask based on the HSV color range\n",
    "        mask = cv2.inRange(hsv, lower, upper)\n",
    "        res = cv2.bitwise_and(frame, frame, mask=mask)\n",
    "        \n",
    "        # Invert the result\n",
    "        fr = cv2.bitwise_not(res)\n",
    "        \n",
    "        # Apply threshold\n",
    "        ret, thresholded = cv2.threshold(mask, threshold_value, 255, cv2.THRESH_BINARY)\n",
    "        \n",
    "        # Find contours\n",
    "        cnt, hr = cv2.findContours(thresholded, cv2.RETR_TREE, cv2.CHAIN_APPROX_SIMPLE)\n",
    "        \n",
    "        # Draw contours\n",
    "        cv2.drawContours(frame, cnt, -1, (255, 0, 0), 2)\n",
    "        \n",
    "        cv2.imshow(\"Thresholded\", thresholded)\n",
    "        cv2.imshow(\"Result\", res)\n",
    "        cv2.imshow(\"Mask\", mask)\n",
    "        cv2.imshow(\"Webcam Feed\", frame)\n",
    "        \n",
    "        if cv2.waitKey(25) & 0xFF == ord(\"q\"):\n",
    "            break\n",
    "    else:\n",
    "        break\n",
    "\n",
    "cap.release()\n",
    "cv2.destroyAllWindows()\n"
   ]
  },
  {
   "cell_type": "code",
   "execution_count": null,
   "id": "400f45cd",
   "metadata": {},
   "outputs": [],
   "source": []
  }
 ],
 "metadata": {
  "kernelspec": {
   "display_name": "Python 3 (ipykernel)",
   "language": "python",
   "name": "python3"
  },
  "language_info": {
   "codemirror_mode": {
    "name": "ipython",
    "version": 3
   },
   "file_extension": ".py",
   "mimetype": "text/x-python",
   "name": "python",
   "nbconvert_exporter": "python",
   "pygments_lexer": "ipython3",
   "version": "3.10.9"
  }
 },
 "nbformat": 4,
 "nbformat_minor": 5
}
